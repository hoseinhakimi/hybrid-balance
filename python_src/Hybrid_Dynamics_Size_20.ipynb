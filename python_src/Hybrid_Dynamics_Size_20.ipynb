{
 "cells": [
  {
   "cell_type": "code",
   "execution_count": null,
   "metadata": {},
   "outputs": [],
   "source": [
    "%config IPCompleter.greedy=True"
   ]
  },
  {
   "cell_type": "code",
   "execution_count": null,
   "metadata": {},
   "outputs": [],
   "source": [
    "import numpy as np\n",
    "import pandas as pd\n",
    "import matplotlib.pyplot as plt"
   ]
  },
  {
   "cell_type": "code",
   "execution_count": null,
   "metadata": {},
   "outputs": [],
   "source": [
    "dataset_1 = pd.read_csv(\"../outputs/data/20_0_0.15_3.csv\")\n",
    "dataset_1.sort_values(['Alpha','Theta'],inplace=True)"
   ]
  },
  {
   "cell_type": "code",
   "execution_count": null,
   "metadata": {},
   "outputs": [],
   "source": [
    "dataset_2 = pd.read_csv(\"../outputs/data/20_0.5_0.15_3.csv\")\n",
    "dataset_2.sort_values(['Alpha','Theta'],inplace=True)"
   ]
  },
  {
   "cell_type": "code",
   "execution_count": null,
   "metadata": {},
   "outputs": [],
   "source": [
    "dataset_3 = pd.read_csv(\"../outputs/data/20_1_0.15_3.csv\")\n",
    "dataset_3.sort_values(['Alpha','Theta'],inplace=True)"
   ]
  },
  {
   "cell_type": "code",
   "execution_count": null,
   "metadata": {},
   "outputs": [],
   "source": [
    "dataset_4 = pd.read_csv(\"../outputs/data/20_0.5_0.1_3.csv\")\n",
    "dataset_4.sort_values(['G','Temperature'],inplace=True)"
   ]
  },
  {
   "cell_type": "code",
   "execution_count": null,
   "metadata": {},
   "outputs": [],
   "source": [
    "dataset_5 = pd.read_csv(\"../outputs/data/20_1_0.1_3.csv\")\n",
    "dataset_5.sort_values(['G','Temperature'],inplace=True)"
   ]
  },
  {
   "cell_type": "code",
   "execution_count": null,
   "metadata": {},
   "outputs": [],
   "source": [
    "dataset_6 = pd.read_csv(\"../outputs/data/20_0_0.1_3.csv\")\n",
    "dataset_6.sort_values(['G','Temperature'],inplace=True)"
   ]
  },
  {
   "cell_type": "code",
   "execution_count": null,
   "metadata": {},
   "outputs": [],
   "source": [
    "dataset_7 = pd.read_csv(\"../outputs/data/50_0.5_0.01_3.csv\")\n",
    "dataset_7.sort_values(['G','Temperature'],inplace=True)"
   ]
  },
  {
   "cell_type": "code",
   "execution_count": null,
   "metadata": {},
   "outputs": [],
   "source": [
    "dataset_8 = pd.read_csv(\"../outputs/data/50_1_.1_3.csv\")\n",
    "dataset_8.sort_values(['G','Temperature'],inplace=True)"
   ]
  },
  {
   "cell_type": "code",
   "execution_count": null,
   "metadata": {},
   "outputs": [],
   "source": [
    "dataset_9 = pd.read_csv(\"../outputs/data/50_0.5_0.1_3.csv\")\n",
    "dataset_9.sort_values(['G','Temperature'],inplace=True)"
   ]
  },
  {
   "cell_type": "code",
   "execution_count": null,
   "metadata": {},
   "outputs": [],
   "source": [
    "dataset_10 = pd.read_csv(\"../outputs/data/20_0.5_0.01_3.csv\")\n",
    "dataset_10.sort_values(['G','Temperature'],inplace=True)"
   ]
  },
  {
   "cell_type": "code",
   "execution_count": null,
   "metadata": {},
   "outputs": [],
   "source": [
    "dataset_11 = pd.read_csv(\"../outputs/data/20_1_0.01_3.csv\")\n",
    "dataset_11.sort_values(['G','Temperature'],inplace=True)"
   ]
  },
  {
   "cell_type": "code",
   "execution_count": null,
   "metadata": {},
   "outputs": [],
   "source": [
    "averaged_data_1 = dataset_1.groupby(['Alpha']).mean()\n",
    "averaged_data_3 = dataset_3.groupby(['Alpha']).mean()"
   ]
  },
  {
   "cell_type": "code",
   "execution_count": null,
   "metadata": {},
   "outputs": [],
   "source": [
    "one_excluded = dataset_2[dataset_2['TriadEnergy']<1]\n",
    "just_one = dataset_2[dataset_2['TriadEnergy']==1]\n",
    "one_excluded = one_excluded.groupby(['Alpha']).mean()\n",
    "just_one = just_one.groupby(['Alpha']).mean()\n",
    "averaged_data_2 = pd.concat([just_one,one_excluded])"
   ]
  },
  {
   "cell_type": "code",
   "execution_count": null,
   "metadata": {},
   "outputs": [],
   "source": [
    "plt.plot(averaged_data_3['Mean'],'.',label='All friend')\n",
    "plt.plot(averaged_data_2['Mean'],'.',label='Random')\n",
    "plt.plot(averaged_data_1['Mean'],'.',label='All enemy')\n",
    "plt.ylim((-1.1,1.1))\n",
    "plt.title(r\"$\\theta = 0.15$\")\n",
    "plt.xlabel(r\"$\\alpha$\")\n",
    "plt.ylabel(r\"$p$\")\n",
    "plt.legend()\n",
    "plt.savefig(\"../outputs/plots/20_p.jpg\", dpi=200)"
   ]
  },
  {
   "cell_type": "code",
   "execution_count": null,
   "metadata": {},
   "outputs": [],
   "source": [
    "plt.plot(averaged_data_3['TriadEnergy'],'.',label='All friend')\n",
    "plt.plot(averaged_data_2['TriadEnergy'],'.',label='Random')\n",
    "plt.plot(averaged_data_1['TriadEnergy'],'.',label='All enemy')\n",
    "plt.ylim((-1.1,1.1))\n",
    "plt.title(r\"$\\theta = 0.15$\")\n",
    "plt.xlabel(r\"$\\alpha$\")\n",
    "plt.ylabel(r\"$r$\")\n",
    "plt.legend()\n",
    "plt.savefig(\"../outputs/plots/20_r.jpg\", dpi=200)"
   ]
  },
  {
   "cell_type": "code",
   "execution_count": null,
   "metadata": {},
   "outputs": [],
   "source": [
    "plt.plot(averaged_data_3['SquareEnergy'],'.',label='All friend')\n",
    "plt.plot(averaged_data_2['SquareEnergy'],'.',label='Random')\n",
    "plt.plot(averaged_data_1['SquareEnergy'],'.',label='All enemy')\n",
    "plt.ylim((-1.1,1.1))\n",
    "plt.title(r\"$\\theta = 0.15$\")\n",
    "plt.xlabel(r\"$\\alpha$\")\n",
    "plt.ylabel(r\"$s$\")\n",
    "plt.legend()\n",
    "plt.savefig(\"../outputs/plots/20_s.jpg\", dpi=200)"
   ]
  },
  {
   "cell_type": "code",
   "execution_count": null,
   "metadata": {},
   "outputs": [],
   "source": [
    "plt.plot(averaged_data_3['OpenSquares'],'.',label='All friend')\n",
    "plt.plot(averaged_data_2['OpenSquares'],'.',label='Random')\n",
    "plt.plot(averaged_data_1['OpenSquares'],'.',label='All enemy')\n",
    "plt.ylim((-1.1,1.1))\n",
    "plt.title(r\"$\\theta = 0.15$\")\n",
    "plt.xlabel(r\"$\\alpha$\")\n",
    "plt.ylabel(r\"$o$\")\n",
    "plt.legend()\n",
    "plt.savefig(\"../outputs/plots/20_o.jpg\", dpi=200)"
   ]
  },
  {
   "cell_type": "code",
   "execution_count": null,
   "metadata": {},
   "outputs": [],
   "source": [
    "# plt.plot(averaged_data_3['TwoStars'],'.',label='All friend')\n",
    "plt.plot(averaged_data_2['TwoStars'],'.',label='Random')\n",
    "plt.plot(averaged_data_1['TwoStars'],'.',label='All enemy')\n",
    "plt.ylim((-1.1,1.1))\n",
    "plt.title(r\"$\\theta = 0.15$\")\n",
    "plt.xlabel(r\"$\\alpha$\")\n",
    "plt.ylabel(r\"$q$\")\n",
    "plt.legend()\n",
    "plt.savefig(\"../outputs/plots/20_q.jpg\", dpi=200)"
   ]
  },
  {
   "cell_type": "code",
   "execution_count": null,
   "metadata": {},
   "outputs": [],
   "source": [
    "averaged_data_4 = dataset_4.groupby(['Temperature']).mean()"
   ]
  },
  {
   "cell_type": "code",
   "execution_count": null,
   "metadata": {},
   "outputs": [],
   "source": [
    "plt.plot(averaged_data_4['Mean'],'.',label='All friend')\n",
    "# plt.plot(averaged_data_2['TriadEnergy'],'.',label='Random')\n",
    "# plt.plot(averaged_data_1['TriadEnergy'],'.',label='All enemy')\n",
    "plt.ylim((-1.1,1.1))\n",
    "plt.title(r\"$\\theta = 0.15$\")\n",
    "plt.xlabel(r\"$\\alpha$\")\n",
    "plt.ylabel(r\"$r$\")\n",
    "plt.legend()\n",
    "# plt.savefig(\"../outputs/plots/20_r.jpg\", dpi=200)"
   ]
  },
  {
   "cell_type": "code",
   "execution_count": null,
   "metadata": {},
   "outputs": [],
   "source": [
    "averaged_data_4.head()"
   ]
  },
  {
   "cell_type": "code",
   "execution_count": null,
   "metadata": {},
   "outputs": [],
   "source": [
    "averaged_data_5 = dataset_5.groupby(['Temperature']).mean()"
   ]
  },
  {
   "cell_type": "code",
   "execution_count": null,
   "metadata": {},
   "outputs": [],
   "source": [
    "plt.plot(averaged_data_5['Mean'],'.',label='All friend')\n",
    "plt.plot(averaged_data_4['Mean'],'.',label='Random')\n",
    "# plt.plot(averaged_dat_1['TriadEnergy'],'.',label='All enemy')\n",
    "plt.ylim((-1.1,1.1))\n",
    "plt.title(r\"$\\g = 0.025$\")\n",
    "plt.xlabel(r\"$\\alpha$\")\n",
    "plt.ylabel(r\"$r$\")\n",
    "plt.legend()\n",
    "# plt.savefig(\"../outputs/plots/20_r.jpg\", dpi=200)"
   ]
  },
  {
   "cell_type": "code",
   "execution_count": null,
   "metadata": {},
   "outputs": [],
   "source": [
    "dataset_7[dataset_7['Temperature'] == 20]"
   ]
  },
  {
   "cell_type": "code",
   "execution_count": null,
   "metadata": {},
   "outputs": [],
   "source": [
    "averaged_data_6 = dataset_6.groupby(['Temperature']).mean()\n",
    "averaged_data_7 = dataset_7.groupby(['Temperature']).mean()"
   ]
  },
  {
   "cell_type": "code",
   "execution_count": null,
   "metadata": {},
   "outputs": [],
   "source": [
    "averaged_data_6.head()"
   ]
  },
  {
   "cell_type": "code",
   "execution_count": null,
   "metadata": {},
   "outputs": [],
   "source": [
    "plt.plot(averaged_data_6['Mean'],'.',label='All friend')\n",
    "plt.plot(averaged_data_7['Mean'],'.',label='Random')\n",
    "# plt.plot(averaged_dat_1['TriadEnergy'],'.',label='All enemy')\n",
    "plt.ylim((-1.1,1.1))\n",
    "plt.title(r\"$g = 0.025$\")\n",
    "plt.xlabel(r\"$\\alpha$\")\n",
    "plt.ylabel(r\"$r$\")\n",
    "plt.legend()\n",
    "# plt.savefig(\"../outputs/plots/20_r.jpg\", dpi=200)"
   ]
  },
  {
   "cell_type": "code",
   "execution_count": null,
   "metadata": {},
   "outputs": [],
   "source": [
    "averaged_data_8 = dataset_8.groupby(['Temperature']).mean()\n",
    "averaged_data_9 = dataset_9.groupby(['Temperature']).mean()"
   ]
  },
  {
   "cell_type": "code",
   "execution_count": null,
   "metadata": {},
   "outputs": [],
   "source": [
    "plt.plot(averaged_data_8['SquareEnergy'],'.',label='All friend')\n",
    "plt.plot(averaged_data_9['SquareEnergy'],'.',label='Random')\n",
    "# plt.plot(averaged_dat_1['TriadEnergy'],'.',label='All enemy')\n",
    "plt.ylim((-1.1,1.1))\n",
    "plt.title(r\"$g = 0.025$\")\n",
    "plt.xlabel(r\"$T$\")\n",
    "plt.ylabel(r\"$m$\")\n",
    "plt.legend()\n",
    "# plt.savefig(\"../outputs/plots/20_r.jpg\", dpi=200)"
   ]
  },
  {
   "cell_type": "code",
   "execution_count": null,
   "metadata": {},
   "outputs": [],
   "source": [
    "averaged_data_10 = dataset_10.groupby(['Temperature']).mean()\n",
    "averaged_data_11 = dataset_11.groupby(['Temperature']).mean()"
   ]
  },
  {
   "cell_type": "code",
   "execution_count": null,
   "metadata": {},
   "outputs": [],
   "source": [
    "plt.plot(averaged_data_10['Mean'],'.',label='All friend')\n",
    "plt.plot(averaged_data_11['Mean'],'.',label='Random')\n",
    "# plt.plot(averaged_dat_1['TriadEnergy'],'.',label='All enemy')\n",
    "plt.ylim((-1.1,1.1))\n",
    "plt.title(r\"$g = 0.025$\")\n",
    "plt.xlabel(r\"$T$\")\n",
    "plt.ylabel(r\"$m$\")\n",
    "plt.legend()\n",
    "# plt.savefig(\"../outputs/plots/20_r.jpg\", dpi=200)"
   ]
  },
  {
   "cell_type": "code",
   "execution_count": null,
   "metadata": {},
   "outputs": [],
   "source": [
    "plt.plot(averaged_data_10['TriadEnergy'],'.',label='All friend')\n",
    "plt.plot(averaged_data_11['TriadEnergy'],'.',label='Random')\n",
    "# plt.plot(averaged_dat_1['TriadEnergy'],'.',label='All enemy')\n",
    "plt.ylim((-1.1,1.1))\n",
    "plt.title(r\"$g = 0.01$\")\n",
    "plt.xlabel(r\"$T$\")\n",
    "plt.ylabel(r\"$m$\")\n",
    "plt.legend()\n",
    "# plt.savefig(\"../outputs/plots/20_r.jpg\", dpi=200)"
   ]
  },
  {
   "cell_type": "code",
   "execution_count": null,
   "metadata": {},
   "outputs": [],
   "source": [
    "plt.plot(averaged_data_10['SquareEnergy'],'.',label='All friend')\n",
    "plt.plot(averaged_data_11['SquareEnergy'],'.',label='Random')\n",
    "# plt.plot(averaged_dat_1['TriadEnergy'],'.',label='All enemy')\n",
    "plt.ylim((-1.1,1.1))\n",
    "plt.title(r\"$g = 0.01$\")\n",
    "plt.xlabel(r\"$T$\")\n",
    "plt.ylabel(r\"$m$\")\n",
    "plt.legend()\n",
    "# plt.savefig(\"../outputs/plots/20_r.jpg\", dpi=200)"
   ]
  },
  {
   "cell_type": "code",
   "execution_count": null,
   "metadata": {},
   "outputs": [],
   "source": [
    "averaged_data_4 = dataset_4.groupby(['Temperature']).mean()\n",
    "averaged_data_5 = dataset_5.groupby(['Temperature']).mean()\n",
    "averaged_data_6 = dataset_6.groupby(['Temperature']).mean()"
   ]
  },
  {
   "cell_type": "code",
   "execution_count": null,
   "metadata": {},
   "outputs": [],
   "source": [
    "plt.plot(averaged_data_5['Mean'],'.',label='All friend')\n",
    "plt.plot(averaged_data_4['Mean'],'.',label='Random')\n",
    "plt.plot(averaged_data_6['Mean'],'.',label='All enemy')\n",
    "plt.ylim((-1.1,1.1))\n",
    "plt.title(r\"$g = 0.1$\")\n",
    "plt.xlabel(r\"$T$\")\n",
    "plt.ylabel(r\"$m$\")\n",
    "plt.legend()\n",
    "# plt.savefig(\"../outputs/plots/20_r.jpg\", dpi=200)"
   ]
  },
  {
   "cell_type": "code",
   "execution_count": null,
   "metadata": {},
   "outputs": [],
   "source": [
    "plt.plot(averaged_data_5['TriadEnergy'],'.',label='All friend')\n",
    "plt.plot(averaged_data_4['TriadEnergy'],'.',label='Random')\n",
    "plt.plot(averaged_data_6['TriadEnergy'],'.',label='All enemy')\n",
    "plt.ylim((-1.1,1.1))\n",
    "plt.title(r\"$g = 0.1$\")\n",
    "plt.xlabel(r\"$T$\")\n",
    "plt.ylabel(r\"$m$\")\n",
    "plt.legend()\n",
    "# plt.savefig(\"../outputs/plots/20_r.jpg\", dpi=200)"
   ]
  },
  {
   "cell_type": "code",
   "execution_count": null,
   "metadata": {},
   "outputs": [],
   "source": [
    "dataset_1 = pd.read_csv(\"../outputs/data/50_1_0.2_3.csv\")\n",
    "dataset_1.sort_values(['G','Temperature'],inplace=True)\n",
    "dataset_0 = pd.read_csv(\"../outputs/data/50_0_0.2_3.csv\")\n",
    "dataset_0.sort_values(['G','Temperature'],inplace=True)\n",
    "dataset_05 = pd.read_csv(\"../outputs/data/50_0.5_0.2_3.csv\")\n",
    "dataset_05.sort_values(['G','Temperature'],inplace=True)\n",
    "\n",
    "averaged_1 = dataset_1.groupby(['Temperature']).mean()\n",
    "averaged_0 = dataset_0.groupby(['Temperature']).mean()\n",
    "averaged_05 = dataset_05.groupby(['Temperature']).mean()"
   ]
  },
  {
   "cell_type": "code",
   "execution_count": null,
   "metadata": {},
   "outputs": [],
   "source": [
    "plt.plot(averaged_1['Mean'],'.',label='All friend')\n",
    "plt.plot(averaged_05['Mean'],'.',label='Random')\n",
    "plt.plot(averaged_0['Mean'],'.',label='All enemy')\n",
    "plt.ylim((-1.1,1.1))\n",
    "plt.title(r\"$g = 0.2$\")\n",
    "plt.xlabel(r\"$T$\")\n",
    "plt.ylabel(r\"$m$\")\n",
    "plt.legend()\n",
    "# plt.savefig(\"../outputs/plots/20_r.jpg\", dpi=200)"
   ]
  },
  {
   "cell_type": "code",
   "execution_count": null,
   "metadata": {},
   "outputs": [],
   "source": [
    "plt.plot(averaged_1['TriadEnergy'],'.',label='All friend')\n",
    "plt.plot(averaged_05['TriadEnergy'],'.',label='Random')\n",
    "plt.plot(averaged_0['TriadEnergy'],'.',label='All enemy')\n",
    "plt.ylim((-1.1,1.1))\n",
    "plt.title(r\"$g = 0.2$\")\n",
    "plt.xlabel(r\"$T$\")\n",
    "plt.ylabel(r\"$m$\")\n",
    "plt.legend()\n",
    "# plt.savefig(\"../outputs/plots/20_r.jpg\", dpi=200)"
   ]
  },
  {
   "cell_type": "code",
   "execution_count": null,
   "metadata": {},
   "outputs": [],
   "source": [
    "dataset_1 = pd.read_csv(\"../outputs/data/40_1_0.2_3.csv\")\n",
    "dataset_1.sort_values(['G','Temperature'],inplace=True)\n",
    "\n",
    "averaged_1 = dataset_1.groupby(['Temperature']).mean()"
   ]
  },
  {
   "cell_type": "code",
   "execution_count": null,
   "metadata": {},
   "outputs": [],
   "source": [
    "plt.plot(averaged_1['SquareEnergy'],'.',label='All friend')\n",
    "plt.plot(averaged_05['SquareEnergy'],'.',label='Random')\n",
    "plt.plot(averaged_0['SquareEnergy'],'.',label='All enemy')\n",
    "plt.ylim((-1.1,1.1))\n",
    "plt.title(r\"$g = 0.2$\")\n",
    "plt.xlabel(r\"$T$\")\n",
    "plt.ylabel(r\"$m$\")\n",
    "plt.legend()\n",
    "# plt.savefig(\"../outputs/plots/20_r.jpg\", dpi=200)"
   ]
  },
  {
   "cell_type": "code",
   "execution_count": null,
   "metadata": {},
   "outputs": [],
   "source": [
    "dataset_1 = pd.read_csv(\"../outputs/data/50_1_0.001_3.csv\")\n",
    "dataset_1.sort_values(['G','Temperature'],inplace=True)\n",
    "dataset_0 = pd.read_csv(\"../outputs/data/50_0_0.001_3.csv\")\n",
    "dataset_0.sort_values(['G','Temperature'],inplace=True)\n",
    "dataset_05 = pd.read_csv(\"../outputs/data/50_0.5_0.001_3.csv\")\n",
    "dataset_05.sort_values(['G','Temperature'],inplace=True)\n",
    "\n",
    "averaged_1 = dataset_1.groupby(['Temperature']).mean()\n",
    "averaged_0 = dataset_0.groupby(['Temperature']).mean()\n",
    "averaged_05 = dataset_05.groupby(['Temperature']).mean()"
   ]
  },
  {
   "cell_type": "code",
   "execution_count": null,
   "metadata": {},
   "outputs": [],
   "source": [
    "plt.plot(averaged_1['Mean'],'.',label='All friend')\n",
    "plt.plot(averaged_05['Mean'],'.',label='Random')\n",
    "plt.plot(averaged_0['Mean'],'.',label='All enemy')\n",
    "plt.ylim((-1.1,1.1))\n",
    "plt.title(r\"$g = 0.001$\")\n",
    "plt.xlabel(r\"$T$\")\n",
    "plt.ylabel(r\"$m$\")\n",
    "plt.legend()\n",
    "# plt.savefig(\"../outputs/plots/20_r.jpg\", dpi=200)"
   ]
  },
  {
   "cell_type": "code",
   "execution_count": null,
   "metadata": {},
   "outputs": [],
   "source": [
    "plt.plot(averaged_1['TriadEnergy'],'.',label='All friend')\n",
    "plt.plot(averaged_05['TriadEnergy'],'.',label='Random')\n",
    "plt.plot(averaged_0['TriadEnergy'],'.',label='All enemy')\n",
    "plt.ylim((-1.1,1.1))\n",
    "plt.title(r\"$g = 0.001$\")\n",
    "plt.xlabel(r\"$T$\")\n",
    "plt.ylabel(r\"$Triad Energy$\")\n",
    "plt.legend()\n",
    "# plt.savefig(\"../outputs/plots/20_r.jpg\", dpi=200)"
   ]
  },
  {
   "cell_type": "code",
   "execution_count": null,
   "metadata": {},
   "outputs": [],
   "source": [
    "plt.plot(averaged_1['SquareEnergy'],'.',label='All friend')\n",
    "plt.plot(averaged_05['SquareEnergy'],'.',label='Random')\n",
    "plt.plot(averaged_0['SquareEnergy'],'.',label='All enemy')\n",
    "plt.ylim((-1.1,1.1))\n",
    "plt.title(r\"$g = 0.001$\")\n",
    "plt.xlabel(r\"$T$\")\n",
    "plt.ylabel(r\"$m$\")\n",
    "plt.legend()\n",
    "# plt.savefig(\"../outputs/plots/20_r.jpg\", dpi=200)"
   ]
  },
  {
   "cell_type": "code",
   "execution_count": null,
   "metadata": {},
   "outputs": [],
   "source": [
    "dataset_1 = pd.read_csv(\"../outputs/data/50_1_0.01_3.csv\")\n",
    "dataset_1.sort_values(['G','Temperature'],inplace=True)\n",
    "dataset_0 = pd.read_csv(\"../outputs/data/50_0_0.01_3.csv\")\n",
    "dataset_0.sort_values(['G','Temperature'],inplace=True)\n",
    "dataset_05 = pd.read_csv(\"../outputs/data/50_0.5_0.01_3.csv\")\n",
    "dataset_05.sort_values(['G','Temperature'],inplace=True)\n",
    "\n",
    "averaged_1 = dataset_1.groupby(['Temperature']).mean()\n",
    "averaged_0 = dataset_0.groupby(['Temperature']).mean()\n",
    "averaged_05 = dataset_05.groupby(['Temperature']).mean()"
   ]
  },
  {
   "cell_type": "code",
   "execution_count": null,
   "metadata": {},
   "outputs": [],
   "source": [
    "plt.plot(averaged_1['Mean'],'.',label='All friend')\n",
    "plt.plot(averaged_05['Mean'],'.',label='Random')\n",
    "plt.plot(averaged_0['Mean'],'.',label='All enemy')\n",
    "plt.ylim((-1.1,1.1))\n",
    "plt.title(r\"$g = 0.01$\")\n",
    "plt.xlabel(r\"$T$\")\n",
    "plt.ylabel(r\"$m$\")\n",
    "plt.legend()\n",
    "# plt.savefig(\"../outputs/plots/20_r.jpg\", dpi=200)"
   ]
  },
  {
   "cell_type": "code",
   "execution_count": null,
   "metadata": {},
   "outputs": [],
   "source": [
    "plt.plot(averaged_1['TriadEnergy'],'.',label='All friend')\n",
    "plt.plot(averaged_05['TriadEnergy'],'.',label='Random')\n",
    "plt.plot(averaged_0['TriadEnergy'],'.',label='All enemy')\n",
    "plt.ylim((-1.1,1.1))\n",
    "plt.title(r\"$g = 0.01$\")\n",
    "plt.xlabel(r\"$T$\")\n",
    "plt.ylabel(r\"$TriadEnergy$\")\n",
    "plt.legend()\n",
    "# plt.savefig(\"../outputs/plots/20_r.jpg\", dpi=200)"
   ]
  },
  {
   "cell_type": "code",
   "execution_count": null,
   "metadata": {},
   "outputs": [],
   "source": [
    "plt.plot(averaged_1['SquareEnergy'],'.',label='All friend')\n",
    "plt.plot(averaged_05['SquareEnergy'],'.',label='Random')\n",
    "plt.plot(averaged_0['SquareEnergy'],'.',label='All enemy')\n",
    "plt.ylim((-1.1,1.1))\n",
    "plt.title(r\"$g = 0.01$\")\n",
    "plt.xlabel(r\"$T$\")\n",
    "plt.ylabel(r\"$SquareEnergy$\")\n",
    "plt.legend()\n",
    "# plt.savefig(\"../outputs/plots/20_r.jpg\", dpi=200)"
   ]
  },
  {
   "cell_type": "code",
   "execution_count": null,
   "metadata": {},
   "outputs": [],
   "source": [
    "dataset = pd.read_csv(\"../outputs/data/50_0_0.1_M.csv\")\n",
    "dataset.sort_values(['G','Temperature'],inplace=True)"
   ]
  },
  {
   "cell_type": "code",
   "execution_count": null,
   "metadata": {},
   "outputs": [],
   "source": [
    "averaged_0 = dataset_0.groupby(['Temperature','Randomness']).mean()\n",
    "# std_0 = dataset_0.groupby(['Temperature']).std()"
   ]
  },
  {
   "cell_type": "code",
   "execution_count": null,
   "metadata": {},
   "outputs": [],
   "source": [
    "averaged_0"
   ]
  },
  {
   "cell_type": "code",
   "execution_count": null,
   "metadata": {},
   "outputs": [],
   "source": [
    "plt.plot(averaged_0['SquareEnergy'],'.',label='All enemy')"
   ]
  },
  {
   "cell_type": "code",
   "execution_count": null,
   "metadata": {},
   "outputs": [],
   "source": [
    "plt.plot(std_0['TriadEnergy'],'.',label='All enemy')"
   ]
  },
  {
   "cell_type": "code",
   "execution_count": null,
   "metadata": {},
   "outputs": [],
   "source": [
    "file = \"../outputs/data/r_50_3.csv\""
   ]
  },
  {
   "cell_type": "code",
   "execution_count": null,
   "metadata": {},
   "outputs": [],
   "source": [
    "temp = pd.read_csv(file, header=None)"
   ]
  },
  {
   "cell_type": "code",
   "execution_count": null,
   "metadata": {},
   "outputs": [],
   "source": [
    "temp.drop(0,1,inplace=True)"
   ]
  },
  {
   "cell_type": "code",
   "execution_count": null,
   "metadata": {},
   "outputs": [],
   "source": [
    "temp.head()"
   ]
  },
  {
   "cell_type": "code",
   "execution_count": null,
   "metadata": {},
   "outputs": [],
   "source": [
    "temp = pd.read_csv(file, header=None)\n",
    "temp[0] = temp[1]\n",
    "temp[8] = temp[2]\n",
    "temp[1] = 0.1\n",
    "temp[2] = 0"
   ]
  },
  {
   "cell_type": "code",
   "execution_count": null,
   "metadata": {},
   "outputs": [],
   "source": [
    "temp.to_csv(file,header=False, index=False)"
   ]
  },
  {
   "cell_type": "code",
   "execution_count": null,
   "metadata": {},
   "outputs": [],
   "source": [
    "dd = averaged_0.copy()\n",
    "dd['G'] = 0.1\n",
    "dd.to_csv(\"50_0.1_all_enemy.csv\")"
   ]
  },
  {
   "cell_type": "code",
   "execution_count": null,
   "metadata": {},
   "outputs": [],
   "source": [
    "dd['G'] = 0.1"
   ]
  },
  {
   "cell_type": "code",
   "execution_count": null,
   "metadata": {},
   "outputs": [],
   "source": [
    "dd.head()"
   ]
  },
  {
   "cell_type": "code",
   "execution_count": null,
   "metadata": {},
   "outputs": [],
   "source": [
    "plt.plot(averaged_1['Mean'],'.',label='All friend')\n",
    "plt.plot(averaged_05['Mean'],'.',label='Random')\n",
    "plt.plot(averaged_0['Mean'],'.',label='All enemy')\n",
    "plt.ylim((-1.1,1.1))\n",
    "plt.title(r\"$g = 0.01$\")\n",
    "plt.xlabel(r\"$T$\")\n",
    "plt.ylabel(r\"$m$\")\n",
    "plt.legend()\n",
    "# plt.savefig(\"../outputs/plots/20_r.jpg\", dpi=200)"
   ]
  },
  {
   "cell_type": "code",
   "execution_count": null,
   "metadata": {},
   "outputs": [],
   "source": [
    "plt.plot(averaged_1['OpenSquares'],'.',label='All friend')\n",
    "plt.plot(averaged_05['OpenSquares'],'.',label='Random')\n",
    "plt.plot(averaged_0['OpenSquares'],'.',label='All enemy')\n",
    "plt.ylim((-1.1,1.1))\n",
    "plt.title(r\"$g = 0.01$\")\n",
    "plt.xlabel(r\"$T$\")\n",
    "plt.ylabel(r\"$m$\")\n",
    "plt.legend()\n",
    "# plt.savefig(\"../outputs/plots/20_r.jpg\", dpi=200)"
   ]
  },
  {
   "cell_type": "code",
   "execution_count": null,
   "metadata": {},
   "outputs": [],
   "source": [
    "plt.plot(averaged_1['TriadEnergy'],'.',label='All friend')\n",
    "plt.plot(averaged_05['TriadEnergy'],'.',label='Random')\n",
    "plt.plot(averaged_0['TriadEnergy'],'.',label='All enemy')\n",
    "plt.ylim((-1.1,1.1))\n",
    "plt.title(r\"$g = 0.01$\")\n",
    "plt.xlabel(r\"$T$\")\n",
    "plt.ylabel(r\"$TriadEnergy$\")\n",
    "plt.legend()\n",
    "# plt.savefig(\"../outputs/plots/20_r.jpg\", dpi=200)"
   ]
  },
  {
   "cell_type": "code",
   "execution_count": null,
   "metadata": {},
   "outputs": [],
   "source": [
    "plt.plot(averaged_1['TwoStars'],'.',label='All friend')\n",
    "plt.plot(averaged_05['TwoStars'],'.',label='Random')\n",
    "plt.plot(averaged_0['TwoStars'],'.',label='All enemy')\n",
    "plt.ylim((-1.1,1.1))\n",
    "plt.title(r\"$g = 0.01$\")\n",
    "plt.xlabel(r\"$T$\")\n",
    "plt.ylabel(r\"$TriadEnergy$\")\n",
    "plt.legend()\n",
    "# plt.savefig(\"../outputs/plots/20_r.jpg\", dpi=200)"
   ]
  },
  {
   "cell_type": "code",
   "execution_count": null,
   "metadata": {},
   "outputs": [],
   "source": [
    "plt.plot(averaged_1['SquareEnergy'],'.',label='All friend')\n",
    "plt.plot(averaged_05['SquareEnergy'],'.',label='Random')\n",
    "plt.plot(averaged_0['SquareEnergy'],'.',label='All enemy')\n",
    "plt.ylim((-1.1,1.1))\n",
    "plt.title(r\"$g = 0.01$\")\n",
    "plt.xlabel(r\"$T$\")\n",
    "plt.ylabel(r\"$SquareEnergy$\")\n",
    "plt.legend()\n",
    "# plt.savefig(\"../outputs/plots/20_r.jpg\", dpi=200)"
   ]
  },
  {
   "cell_type": "code",
   "execution_count": null,
   "metadata": {},
   "outputs": [],
   "source": []
  }
 ],
 "metadata": {
  "kernelspec": {
   "display_name": "Python 3",
   "language": "python",
   "name": "python3"
  },
  "language_info": {
   "codemirror_mode": {
    "name": "ipython",
    "version": 3
   },
   "file_extension": ".py",
   "mimetype": "text/x-python",
   "name": "python",
   "nbconvert_exporter": "python",
   "pygments_lexer": "ipython3",
   "version": "3.9.5"
  }
 },
 "nbformat": 4,
 "nbformat_minor": 4
}
