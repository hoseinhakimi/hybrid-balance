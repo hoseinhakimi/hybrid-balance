{
 "cells": [
  {
   "cell_type": "code",
   "execution_count": 1,
   "metadata": {},
   "outputs": [],
   "source": [
    "import numpy as np\n",
    "import pandas as pd\n",
    "\n",
    "import matplotlib.pyplot as plt"
   ]
  },
  {
   "cell_type": "code",
   "execution_count": 2,
   "metadata": {},
   "outputs": [],
   "source": [
    "simulation_output = pd.read_csv(\"../outputs/data/mixed_dynamics_20_0.000000\")\n",
    "simulation_output.sort_values(['Alpha','Theta'],inplace=True)"
   ]
  },
  {
   "cell_type": "code",
   "execution_count": 3,
   "metadata": {},
   "outputs": [
    {
     "data": {
      "text/html": [
       "<div>\n",
       "<style scoped>\n",
       "    .dataframe tbody tr th:only-of-type {\n",
       "        vertical-align: middle;\n",
       "    }\n",
       "\n",
       "    .dataframe tbody tr th {\n",
       "        vertical-align: top;\n",
       "    }\n",
       "\n",
       "    .dataframe thead th {\n",
       "        text-align: right;\n",
       "    }\n",
       "</style>\n",
       "<table border=\"1\" class=\"dataframe\">\n",
       "  <thead>\n",
       "    <tr style=\"text-align: right;\">\n",
       "      <th></th>\n",
       "      <th>Alpha</th>\n",
       "      <th>Theta</th>\n",
       "      <th>SquareEnergy</th>\n",
       "      <th>OpenSquares</th>\n",
       "      <th>TriadEnergy</th>\n",
       "      <th>TwoStars</th>\n",
       "      <th>Mean</th>\n",
       "    </tr>\n",
       "  </thead>\n",
       "  <tbody>\n",
       "    <tr>\n",
       "      <th>5</th>\n",
       "      <td>0.000</td>\n",
       "      <td>0.01</td>\n",
       "      <td>-0.003234</td>\n",
       "      <td>-0.003165</td>\n",
       "      <td>0.031579</td>\n",
       "      <td>-0.009357</td>\n",
       "      <td>0.126316</td>\n",
       "    </tr>\n",
       "    <tr>\n",
       "      <th>104</th>\n",
       "      <td>0.001</td>\n",
       "      <td>0.01</td>\n",
       "      <td>-0.002408</td>\n",
       "      <td>0.002614</td>\n",
       "      <td>-0.028070</td>\n",
       "      <td>0.026901</td>\n",
       "      <td>-0.105263</td>\n",
       "    </tr>\n",
       "    <tr>\n",
       "      <th>207</th>\n",
       "      <td>0.002</td>\n",
       "      <td>0.01</td>\n",
       "      <td>-0.005160</td>\n",
       "      <td>-0.011283</td>\n",
       "      <td>0.000000</td>\n",
       "      <td>0.017544</td>\n",
       "      <td>-0.063158</td>\n",
       "    </tr>\n",
       "    <tr>\n",
       "      <th>307</th>\n",
       "      <td>0.003</td>\n",
       "      <td>0.01</td>\n",
       "      <td>0.008050</td>\n",
       "      <td>-0.000550</td>\n",
       "      <td>0.007018</td>\n",
       "      <td>-0.015205</td>\n",
       "      <td>-0.021053</td>\n",
       "    </tr>\n",
       "    <tr>\n",
       "      <th>405</th>\n",
       "      <td>0.004</td>\n",
       "      <td>0.01</td>\n",
       "      <td>-0.004610</td>\n",
       "      <td>-0.002614</td>\n",
       "      <td>-0.028070</td>\n",
       "      <td>0.017544</td>\n",
       "      <td>-0.021053</td>\n",
       "    </tr>\n",
       "    <tr>\n",
       "      <th>...</th>\n",
       "      <td>...</td>\n",
       "      <td>...</td>\n",
       "      <td>...</td>\n",
       "      <td>...</td>\n",
       "      <td>...</td>\n",
       "      <td>...</td>\n",
       "      <td>...</td>\n",
       "    </tr>\n",
       "    <tr>\n",
       "      <th>19491</th>\n",
       "      <td>0.195</td>\n",
       "      <td>0.01</td>\n",
       "      <td>-1.000000</td>\n",
       "      <td>-1.000000</td>\n",
       "      <td>1.000000</td>\n",
       "      <td>1.000000</td>\n",
       "      <td>-1.000000</td>\n",
       "    </tr>\n",
       "    <tr>\n",
       "      <th>19591</th>\n",
       "      <td>0.196</td>\n",
       "      <td>0.01</td>\n",
       "      <td>-1.000000</td>\n",
       "      <td>-1.000000</td>\n",
       "      <td>1.000000</td>\n",
       "      <td>1.000000</td>\n",
       "      <td>-1.000000</td>\n",
       "    </tr>\n",
       "    <tr>\n",
       "      <th>19689</th>\n",
       "      <td>0.197</td>\n",
       "      <td>0.01</td>\n",
       "      <td>-1.000000</td>\n",
       "      <td>-1.000000</td>\n",
       "      <td>1.000000</td>\n",
       "      <td>1.000000</td>\n",
       "      <td>-1.000000</td>\n",
       "    </tr>\n",
       "    <tr>\n",
       "      <th>19790</th>\n",
       "      <td>0.198</td>\n",
       "      <td>0.01</td>\n",
       "      <td>-1.000000</td>\n",
       "      <td>-1.000000</td>\n",
       "      <td>1.000000</td>\n",
       "      <td>1.000000</td>\n",
       "      <td>-1.000000</td>\n",
       "    </tr>\n",
       "    <tr>\n",
       "      <th>19891</th>\n",
       "      <td>0.199</td>\n",
       "      <td>0.01</td>\n",
       "      <td>-1.000000</td>\n",
       "      <td>-1.000000</td>\n",
       "      <td>1.000000</td>\n",
       "      <td>1.000000</td>\n",
       "      <td>-1.000000</td>\n",
       "    </tr>\n",
       "  </tbody>\n",
       "</table>\n",
       "<p>200 rows × 7 columns</p>\n",
       "</div>"
      ],
      "text/plain": [
       "       Alpha  Theta  SquareEnergy  OpenSquares  TriadEnergy  TwoStars  \\\n",
       "5      0.000   0.01     -0.003234    -0.003165     0.031579 -0.009357   \n",
       "104    0.001   0.01     -0.002408     0.002614    -0.028070  0.026901   \n",
       "207    0.002   0.01     -0.005160    -0.011283     0.000000  0.017544   \n",
       "307    0.003   0.01      0.008050    -0.000550     0.007018 -0.015205   \n",
       "405    0.004   0.01     -0.004610    -0.002614    -0.028070  0.017544   \n",
       "...      ...    ...           ...          ...          ...       ...   \n",
       "19491  0.195   0.01     -1.000000    -1.000000     1.000000  1.000000   \n",
       "19591  0.196   0.01     -1.000000    -1.000000     1.000000  1.000000   \n",
       "19689  0.197   0.01     -1.000000    -1.000000     1.000000  1.000000   \n",
       "19790  0.198   0.01     -1.000000    -1.000000     1.000000  1.000000   \n",
       "19891  0.199   0.01     -1.000000    -1.000000     1.000000  1.000000   \n",
       "\n",
       "           Mean  \n",
       "5      0.126316  \n",
       "104   -0.105263  \n",
       "207   -0.063158  \n",
       "307   -0.021053  \n",
       "405   -0.021053  \n",
       "...         ...  \n",
       "19491 -1.000000  \n",
       "19591 -1.000000  \n",
       "19689 -1.000000  \n",
       "19790 -1.000000  \n",
       "19891 -1.000000  \n",
       "\n",
       "[200 rows x 7 columns]"
      ]
     },
     "execution_count": 3,
     "metadata": {},
     "output_type": "execute_result"
    }
   ],
   "source": [
    "simulation_output[simulation_output['Theta'] == .01]"
   ]
  },
  {
   "cell_type": "code",
   "execution_count": 38,
   "metadata": {},
   "outputs": [
    {
     "data": {
      "image/png": "[encoded data removed]",
      "text/plain": [
       "<Figure size 432x288 with 1 Axes>"
      ]
     },
     "metadata": {
      "needs_background": "light"
     },
     "output_type": "display_data"
    }
   ],
   "source": [
    "Theta = .1\n",
    "plot_data = simulation_output[simulation_output['Theta'] == Theta]\n",
    "plt.plot(plot_data['Alpha'], plot_data['TriadEnergy'])\n",
    "plt.title(r'Final Triad Energy for $\\theta$ = ' + str(Theta) + ' and initial state of all enmity relations')\n",
    "plt.xlabel(r'$\\alpha$')\n",
    "plt.ylabel('Final Triad Energy')\n",
    "plt.savefig('size20_allenemy_theta_' + str(Theta) + '.png', dpi=300)"
   ]
  },
  {
   "cell_type": "code",
   "execution_count": 2,
   "metadata": {},
   "outputs": [],
   "source": [
    "simulation_output_random = pd.read_csv(\"../outputs/data/mixed_dynamics_20_0.500000\")\n",
    "simulation_output_random.sort_values(['Alpha','Theta'],inplace=True)"
   ]
  },
  {
   "cell_type": "code",
   "execution_count": 4,
   "metadata": {},
   "outputs": [
    {
     "data": {
      "text/plain": [
       "[<matplotlib.lines.Line2D at 0x7ff6429281c0>]"
      ]
     },
     "execution_count": 4,
     "metadata": {},
     "output_type": "execute_result"
    },
    {
     "data": {
      "image/png": "[encoded data removed]",
      "text/plain": [
       "<Figure size 432x288 with 1 Axes>"
      ]
     },
     "metadata": {
      "needs_background": "light"
     },
     "output_type": "display_data"
    }
   ],
   "source": [
    "plot_data = simulation_output_random[simulation_output_random['Theta'] == .1]\n",
    "plt.plot(plot_data['Alpha'], plot_data['TriadEnergy'])"
   ]
  },
  {
   "cell_type": "code",
   "execution_count": 3,
   "metadata": {},
   "outputs": [
    {
     "data": {
      "text/html": [
       "<div>\n",
       "<style scoped>\n",
       "    .dataframe tbody tr th:only-of-type {\n",
       "        vertical-align: middle;\n",
       "    }\n",
       "\n",
       "    .dataframe tbody tr th {\n",
       "        vertical-align: top;\n",
       "    }\n",
       "\n",
       "    .dataframe thead th {\n",
       "        text-align: right;\n",
       "    }\n",
       "</style>\n",
       "<table border=\"1\" class=\"dataframe\">\n",
       "  <thead>\n",
       "    <tr style=\"text-align: right;\">\n",
       "      <th></th>\n",
       "      <th>Alpha</th>\n",
       "      <th>Theta</th>\n",
       "      <th>SquareEnergy</th>\n",
       "      <th>OpenSquares</th>\n",
       "      <th>TriadEnergy</th>\n",
       "      <th>TwoStars</th>\n",
       "      <th>Mean</th>\n",
       "    </tr>\n",
       "  </thead>\n",
       "  <tbody>\n",
       "    <tr>\n",
       "      <th>0</th>\n",
       "      <td>0.000</td>\n",
       "      <td>0.00</td>\n",
       "      <td>-0.004334</td>\n",
       "      <td>0.004059</td>\n",
       "      <td>-0.003509</td>\n",
       "      <td>0.008187</td>\n",
       "      <td>-0.115789</td>\n",
       "    </tr>\n",
       "    <tr>\n",
       "      <th>4</th>\n",
       "      <td>0.000</td>\n",
       "      <td>0.01</td>\n",
       "      <td>0.008050</td>\n",
       "      <td>-0.005848</td>\n",
       "      <td>0.049123</td>\n",
       "      <td>0.025731</td>\n",
       "      <td>-0.115789</td>\n",
       "    </tr>\n",
       "    <tr>\n",
       "      <th>8</th>\n",
       "      <td>0.000</td>\n",
       "      <td>0.02</td>\n",
       "      <td>0.002821</td>\n",
       "      <td>0.000894</td>\n",
       "      <td>-0.003509</td>\n",
       "      <td>-0.008187</td>\n",
       "      <td>-0.052632</td>\n",
       "    </tr>\n",
       "    <tr>\n",
       "      <th>13</th>\n",
       "      <td>0.000</td>\n",
       "      <td>0.03</td>\n",
       "      <td>-0.000757</td>\n",
       "      <td>-0.007018</td>\n",
       "      <td>-0.014035</td>\n",
       "      <td>0.001170</td>\n",
       "      <td>-0.021053</td>\n",
       "    </tr>\n",
       "    <tr>\n",
       "      <th>18</th>\n",
       "      <td>0.000</td>\n",
       "      <td>0.04</td>\n",
       "      <td>-0.026075</td>\n",
       "      <td>0.000688</td>\n",
       "      <td>-0.112281</td>\n",
       "      <td>-0.019883</td>\n",
       "      <td>-0.042105</td>\n",
       "    </tr>\n",
       "    <tr>\n",
       "      <th>...</th>\n",
       "      <td>...</td>\n",
       "      <td>...</td>\n",
       "      <td>...</td>\n",
       "      <td>...</td>\n",
       "      <td>...</td>\n",
       "      <td>...</td>\n",
       "      <td>...</td>\n",
       "    </tr>\n",
       "    <tr>\n",
       "      <th>19977</th>\n",
       "      <td>0.199</td>\n",
       "      <td>0.95</td>\n",
       "      <td>-1.000000</td>\n",
       "      <td>-0.010526</td>\n",
       "      <td>-1.000000</td>\n",
       "      <td>-0.010526</td>\n",
       "      <td>-0.010526</td>\n",
       "    </tr>\n",
       "    <tr>\n",
       "      <th>19982</th>\n",
       "      <td>0.199</td>\n",
       "      <td>0.96</td>\n",
       "      <td>-1.000000</td>\n",
       "      <td>-0.052632</td>\n",
       "      <td>-1.000000</td>\n",
       "      <td>-0.052632</td>\n",
       "      <td>-0.052632</td>\n",
       "    </tr>\n",
       "    <tr>\n",
       "      <th>19987</th>\n",
       "      <td>0.199</td>\n",
       "      <td>0.97</td>\n",
       "      <td>-1.000000</td>\n",
       "      <td>0.210526</td>\n",
       "      <td>-1.000000</td>\n",
       "      <td>0.210526</td>\n",
       "      <td>0.210526</td>\n",
       "    </tr>\n",
       "    <tr>\n",
       "      <th>19991</th>\n",
       "      <td>0.199</td>\n",
       "      <td>0.98</td>\n",
       "      <td>-1.000000</td>\n",
       "      <td>-0.042105</td>\n",
       "      <td>-1.000000</td>\n",
       "      <td>-0.042105</td>\n",
       "      <td>-0.042105</td>\n",
       "    </tr>\n",
       "    <tr>\n",
       "      <th>19993</th>\n",
       "      <td>0.199</td>\n",
       "      <td>0.99</td>\n",
       "      <td>-1.000000</td>\n",
       "      <td>-0.052632</td>\n",
       "      <td>-1.000000</td>\n",
       "      <td>-0.052632</td>\n",
       "      <td>-0.052632</td>\n",
       "    </tr>\n",
       "  </tbody>\n",
       "</table>\n",
       "<p>19994 rows × 7 columns</p>\n",
       "</div>"
      ],
      "text/plain": [
       "       Alpha  Theta  SquareEnergy  OpenSquares  TriadEnergy  TwoStars  \\\n",
       "0      0.000   0.00     -0.004334     0.004059    -0.003509  0.008187   \n",
       "4      0.000   0.01      0.008050    -0.005848     0.049123  0.025731   \n",
       "8      0.000   0.02      0.002821     0.000894    -0.003509 -0.008187   \n",
       "13     0.000   0.03     -0.000757    -0.007018    -0.014035  0.001170   \n",
       "18     0.000   0.04     -0.026075     0.000688    -0.112281 -0.019883   \n",
       "...      ...    ...           ...          ...          ...       ...   \n",
       "19977  0.199   0.95     -1.000000    -0.010526    -1.000000 -0.010526   \n",
       "19982  0.199   0.96     -1.000000    -0.052632    -1.000000 -0.052632   \n",
       "19987  0.199   0.97     -1.000000     0.210526    -1.000000  0.210526   \n",
       "19991  0.199   0.98     -1.000000    -0.042105    -1.000000 -0.042105   \n",
       "19993  0.199   0.99     -1.000000    -0.052632    -1.000000 -0.052632   \n",
       "\n",
       "           Mean  \n",
       "0     -0.115789  \n",
       "4     -0.115789  \n",
       "8     -0.052632  \n",
       "13    -0.021053  \n",
       "18    -0.042105  \n",
       "...         ...  \n",
       "19977 -0.010526  \n",
       "19982 -0.052632  \n",
       "19987  0.210526  \n",
       "19991 -0.042105  \n",
       "19993 -0.052632  \n",
       "\n",
       "[19994 rows x 7 columns]"
      ]
     },
     "execution_count": 3,
     "metadata": {},
     "output_type": "execute_result"
    }
   ],
   "source": [
    "simulation_output_random"
   ]
  },
  {
   "cell_type": "code",
   "execution_count": 48,
   "metadata": {},
   "outputs": [],
   "source": [
    "simulation_output_f = pd.read_csv(\"../outputs/data/mixed_dynamics_20_1.000000\")\n",
    "simulation_output_f.sort_values(['Alpha','Theta'],inplace=True)"
   ]
  },
  {
   "cell_type": "code",
   "execution_count": 56,
   "metadata": {},
   "outputs": [
    {
     "data": {
      "text/plain": [
       "[<matplotlib.lines.Line2D at 0x7fd33315de50>]"
      ]
     },
     "execution_count": 56,
     "metadata": {},
     "output_type": "execute_result"
    },
    {
     "data": {
      "image/png": "[encoded data removed]",
      "text/plain": [
       "<Figure size 432x288 with 1 Axes>"
      ]
     },
     "metadata": {
      "needs_background": "light"
     },
     "output_type": "display_data"
    }
   ],
   "source": [
    "plot_data = simulation_output_f[simulation_output_f['Theta'] == .5]\n",
    "plt.plot(plot_data['Alpha'], plot_data['Mean'])"
   ]
  },
  {
   "cell_type": "code",
   "execution_count": null,
   "metadata": {},
   "outputs": [],
   "source": []
  }
 ],
 "metadata": {
  "kernelspec": {
   "display_name": "Python 3",
   "language": "python",
   "name": "python3"
  },
  "language_info": {
   "codemirror_mode": {
    "name": "ipython",
    "version": 3
   },
   "file_extension": ".py",
   "mimetype": "text/x-python",
   "name": "python",
   "nbconvert_exporter": "python",
   "pygments_lexer": "ipython3",
   "version": "3.8.6"
  }
 },
 "nbformat": 4,
 "nbformat_minor": 4
}
