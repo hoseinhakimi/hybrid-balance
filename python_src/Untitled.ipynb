{
 "cells": [
  {
   "cell_type": "code",
   "execution_count": 1,
   "metadata": {
    "ExecuteTime": {
     "end_time": "2020-06-21T13:36:51.473121Z",
     "start_time": "2020-06-21T13:36:50.539092Z"
    }
   },
   "outputs": [],
   "source": [
    "import numpy as np\n",
    "import matplotlib.pyplot as plt\n",
    "import pandas as pd\n",
    "from itertools import combinations, permutations\n",
    "from scipy import sparse"
   ]
  },
  {
   "cell_type": "code",
   "execution_count": 2,
   "metadata": {
    "ExecuteTime": {
     "end_time": "2020-06-21T13:36:52.086971Z",
     "start_time": "2020-06-21T13:36:52.053040Z"
    }
   },
   "outputs": [],
   "source": [
    "class mixed_heider:\n",
    "    def set_system(self, nodes_count, enmity_ratio, delay):\n",
    "        self.nc, self.er, self.delay = (nodes_count, enmity_ratio, delay)\n",
    "        self.initiate()\n",
    "\n",
    "    def initiate(self):\n",
    "        self.create_network()\n",
    "        self.total_tri_energy()\n",
    "\n",
    "    def create_network(self):\n",
    "        links = np.array(list(combinations(np.arange(self.nc), 2)))\n",
    "\n",
    "        self.lc = len(links)\n",
    "        signs = np.random.choice(a=[-1, 1],\n",
    "                                 size=self.lc,\n",
    "                                 p=[self.er, 1 - self.er])\n",
    "        adj = sparse.coo_matrix((signs, (links[:, 0], links[:, 1])),\n",
    "                                (self.nc, self.nc)).toarray()\n",
    "        self.adj_mat = adj + adj.T\n",
    "\n",
    "    def total_tri_energy(self):\n",
    "        self.tc = len(list(combinations(np.arange(self.nc), 3)))\n",
    "        randRange = 2 * self.delay if self.delay > 0 else 1;\n",
    "        self.state_array = np.c_[\n",
    "            list(combinations(np.arange(self.nc), 3)),\n",
    "            -np.random.randint(randRange, size=self.tc)]\n",
    "        energy_part = np.matmul(self.adj_mat, self.adj_mat)\n",
    "        energy_mat = np.multiply(self.adj_mat, energy_part)\n",
    "        self.tri_energy = -np.sum(energy_mat) / 6\n",
    "\n",
    "    def permute_nodes(self, array):\n",
    "        return np.array(list(permutations(array, 3))[:3])\n",
    "\n",
    "    # dynamic\n",
    "    def balanceTimer(self, link, time):\n",
    "        indices = list(range(self.nc))\n",
    "        indices.remove(link[1])\n",
    "        indices.remove(link[0])\n",
    "        for i in indices:\n",
    "            sign = \\\n",
    "            self.adj_mat[link[0],link[1]] * \\\n",
    "            self.adj_mat[link[0], i] * \\\n",
    "            self.adj_mat[i, link[1]]\n",
    "            if sign == -1:\n",
    "                dd = [link[0], link[1], i]\n",
    "                dd.sort()\n",
    "                row = np.argwhere(\n",
    "                    (self.state_array[:, :-1] == dd).all(axis=1))[0][0]\n",
    "                self.state_array[row, 3] = time\n",
    "\n",
    "    def checker(self, link, time):\n",
    "        linkEnergy = 0\n",
    "        indices = list(range(self.nc))\n",
    "        indices.remove(link[1])\n",
    "        indices.remove(link[0])\n",
    "        for i in indices:\n",
    "            dd = [link[0], link[1], i]\n",
    "            dd.sort()\n",
    "            row = np.argwhere(\n",
    "                (self.state_array[:, :-1] == dd).all(axis=1))[0][0]\n",
    "            if (time - self.state_array[row, 3] <= self.delay):\n",
    "                linkEnergy += 1\n",
    "            else:\n",
    "                linkEnergy -= 1\n",
    "        return linkEnergy\n",
    "\n",
    "    def flipper(self, time):\n",
    "        link = np.random.choice(range(self.nc), 2, replace=False)\n",
    "        tri_energy_m = -np.inner(\n",
    "            self.adj_mat[:, link[0]],\n",
    "            self.adj_mat[:, link[1]]) * self.adj_mat[link[0], link[1]]\n",
    "        tri_energy = self.checker(link, time)\n",
    "        delta_E = tri_energy\n",
    "        new_sgn = -np.sign(delta_E)\n",
    "        decision_factor = new_sgn - 1\n",
    "        self.adj_mat[link[0],link[1]] = self.adj_mat[link[1],link[0]] = \\\n",
    "                        new_sgn * self.adj_mat[link[0],link[1]]\n",
    "        self.balanceTimer(link, time)\n",
    "        self.tri_energy += decision_factor * tri_energy_m"
   ]
  },
  {
   "cell_type": "code",
   "execution_count": 14,
   "metadata": {
    "ExecuteTime": {
     "end_time": "2020-06-21T14:06:46.588364Z",
     "start_time": "2020-06-21T14:06:46.580570Z"
    }
   },
   "outputs": [],
   "source": [
    "nodes_count = 21  # number of nodes (must be integer)\n",
    "enmity_ratio = 1  # a real number between 0 and 1 that\n",
    "# shows initial ratio of enmity in network\n",
    "# delay = 21\n",
    "time_steps = nodes_count**3"
   ]
  },
  {
   "cell_type": "code",
   "execution_count": 15,
   "metadata": {
    "ExecuteTime": {
     "end_time": "2020-06-21T14:06:47.463513Z",
     "start_time": "2020-06-21T14:06:47.459248Z"
    }
   },
   "outputs": [],
   "source": [
    "trngl_energy_ts = []"
   ]
  },
  {
   "cell_type": "code",
   "execution_count": 16,
   "metadata": {
    "ExecuteTime": {
     "end_time": "2020-06-21T14:06:47.807452Z",
     "start_time": "2020-06-21T14:06:47.798793Z"
    }
   },
   "outputs": [],
   "source": [
    "mh = mixed_heider()"
   ]
  },
  {
   "cell_type": "code",
   "execution_count": 17,
   "metadata": {
    "ExecuteTime": {
     "end_time": "2020-06-21T14:06:48.194575Z",
     "start_time": "2020-06-21T14:06:48.186473Z"
    }
   },
   "outputs": [],
   "source": [
    "mh.set_system(nodes_count, enmity_ratio, delay)"
   ]
  },
  {
   "cell_type": "code",
   "execution_count": 18,
   "metadata": {
    "ExecuteTime": {
     "end_time": "2020-06-21T14:07:08.569276Z",
     "start_time": "2020-06-21T14:06:50.010823Z"
    }
   },
   "outputs": [],
   "source": [
    "for t in range(time_steps):\n",
    "    mh.flipper(t)\n",
    "    trngl_energy_ts.append(mh.tri_energy / mh.tc)"
   ]
  },
  {
   "cell_type": "code",
   "execution_count": 13,
   "metadata": {
    "ExecuteTime": {
     "end_time": "2020-06-21T14:06:36.447076Z",
     "start_time": "2020-06-21T14:06:36.145594Z"
    }
   },
   "outputs": [
    {
     "data": {
      "text/plain": [
       "[<matplotlib.lines.Line2D at 0x7fc980d5b610>]"
      ]
     },
     "execution_count": 13,
     "metadata": {},
     "output_type": "execute_result"
    },
    {
     "data": {
      "image/png": "[encoded data removed]",
      "text/plain": [
       "<Figure size 432x288 with 1 Axes>"
      ]
     },
     "metadata": {
      "needs_background": "light"
     },
     "output_type": "display_data"
    }
   ],
   "source": [
    "plt.plot(trngl_energy_ts)"
   ]
  },
  {
   "cell_type": "code",
   "execution_count": 19,
   "metadata": {
    "ExecuteTime": {
     "end_time": "2020-06-21T14:07:08.812388Z",
     "start_time": "2020-06-21T14:07:08.588186Z"
    }
   },
   "outputs": [
    {
     "data": {
      "text/plain": [
       "[<matplotlib.lines.Line2D at 0x7fc980ca4a90>]"
      ]
     },
     "execution_count": 19,
     "metadata": {},
     "output_type": "execute_result"
    },
    {
     "data": {
      "image/png": "[encoded data removed]",
      "text/plain": [
       "<Figure size 432x288 with 1 Axes>"
      ]
     },
     "metadata": {
      "needs_background": "light"
     },
     "output_type": "display_data"
    }
   ],
   "source": [
    "plt.plot(trngl_energy_ts)"
   ]
  },
  {
   "cell_type": "code",
   "execution_count": 24,
   "metadata": {
    "ExecuteTime": {
     "end_time": "2020-06-21T14:21:29.012494Z",
     "start_time": "2020-06-21T14:21:29.005596Z"
    }
   },
   "outputs": [],
   "source": [
    "delays = [1,2,4,8,16]"
   ]
  },
  {
   "cell_type": "code",
   "execution_count": 21,
   "metadata": {
    "ExecuteTime": {
     "end_time": "2020-06-21T14:17:39.686699Z",
     "start_time": "2020-06-21T14:13:54.019061Z"
    }
   },
   "outputs": [
    {
     "data": {
      "image/png": "[encoded data removed]",
      "text/plain": [
       "<Figure size 432x288 with 1 Axes>"
      ]
     },
     "metadata": {
      "needs_background": "light"
     },
     "output_type": "display_data"
    }
   ],
   "source": [
    "for i in range(10):\n",
    "    delay = 2 ** i\n",
    "    trngl_energy_ts = []\n",
    "    mh = mixed_heider()\n",
    "    mh.set_system(nodes_count, enmity_ratio, delay)\n",
    "    for t in range(time_steps):\n",
    "        mh.flipper(t)\n",
    "        trngl_energy_ts.append(mh.tri_energy / mh.tc)\n",
    "    plt.plot(trngl_energy_ts,label=str(delay))\n",
    "plt.legend()\n",
    "plt.show()"
   ]
  },
  {
   "cell_type": "code",
   "execution_count": 26,
   "metadata": {
    "ExecuteTime": {
     "end_time": "2020-06-21T14:30:51.111482Z",
     "start_time": "2020-06-21T14:25:00.198299Z"
    }
   },
   "outputs": [
    {
     "data": {
      "image/png": "[encoded data removed]",
      "text/plain": [
       "<Figure size 432x288 with 1 Axes>"
      ]
     },
     "metadata": {
      "needs_background": "light"
     },
     "output_type": "display_data"
    }
   ],
   "source": [
    "# for delay in delays:\n",
    "delay = 2\n",
    "trngl_energy_ts = []\n",
    "mh = mixed_heider()\n",
    "mh.set_system(nodes_count, enmity_ratio, delay)\n",
    "for t in range(nodes_count ** 4):\n",
    "    mh.flipper(t)\n",
    "    trngl_energy_ts.append(mh.tri_energy / mh.tc)\n",
    "plt.plot(trngl_energy_ts,label=str(delay))\n",
    "plt.legend()\n",
    "plt.show()"
   ]
  },
  {
   "cell_type": "code",
   "execution_count": 27,
   "metadata": {
    "ExecuteTime": {
     "end_time": "2020-06-21T14:41:38.599960Z",
     "start_time": "2020-06-21T14:34:20.578710Z"
    }
   },
   "outputs": [
    {
     "data": {
      "image/png": "[encoded data removed]",
      "text/plain": [
       "<Figure size 432x288 with 1 Axes>"
      ]
     },
     "metadata": {
      "needs_background": "light"
     },
     "output_type": "display_data"
    }
   ],
   "source": [
    "# for delay in delays:\n",
    "delay = 256\n",
    "trngl_energy_ts = []\n",
    "mh = mixed_heider()\n",
    "mh.set_system(nodes_count, enmity_ratio, delay)\n",
    "for t in range(nodes_count ** 4):\n",
    "    mh.flipper(t)\n",
    "    trngl_energy_ts.append(mh.tri_energy / mh.tc)\n",
    "plt.plot(trngl_energy_ts,label=str(delay))\n",
    "plt.legend()\n",
    "plt.show()"
   ]
  },
  {
   "cell_type": "code",
   "execution_count": 31,
   "metadata": {
    "ExecuteTime": {
     "end_time": "2020-06-21T16:31:23.870582Z",
     "start_time": "2020-06-21T16:31:23.860557Z"
    }
   },
   "outputs": [
    {
     "data": {
      "text/plain": [
       "array([0, 0, 0, 0, 0, 0, 0, 0, 0, 0])"
      ]
     },
     "execution_count": 31,
     "metadata": {},
     "output_type": "execute_result"
    }
   ],
   "source": [
    "np.random.randint(1, size=10)"
   ]
  },
  {
   "cell_type": "code",
   "execution_count": 71,
   "metadata": {
    "ExecuteTime": {
     "end_time": "2020-06-15T14:16:26.128593Z",
     "start_time": "2020-06-15T14:16:26.122664Z"
    }
   },
   "outputs": [],
   "source": [
    "a = [3,1,2]\n",
    "a.sort()"
   ]
  },
  {
   "cell_type": "code",
   "execution_count": 72,
   "metadata": {
    "ExecuteTime": {
     "end_time": "2020-06-15T14:16:31.366348Z",
     "start_time": "2020-06-15T14:16:31.355903Z"
    }
   },
   "outputs": [
    {
     "data": {
      "text/plain": [
       "array([[91]])"
      ]
     },
     "execution_count": 72,
     "metadata": {},
     "output_type": "execute_result"
    }
   ],
   "source": [
    "np.argwhere((aa[:,:-1] == a).all(axis=1))"
   ]
  },
  {
   "cell_type": "code",
   "execution_count": 75,
   "metadata": {
    "ExecuteTime": {
     "end_time": "2020-06-15T14:17:02.173952Z",
     "start_time": "2020-06-15T14:17:02.166693Z"
    }
   },
   "outputs": [
    {
     "data": {
      "text/plain": [
       "array([ 0., 13., 14., -1.])"
      ]
     },
     "execution_count": 75,
     "metadata": {},
     "output_type": "execute_result"
    }
   ],
   "source": [
    "aa[90,:]"
   ]
  },
  {
   "cell_type": "code",
   "execution_count": 61,
   "metadata": {
    "ExecuteTime": {
     "end_time": "2020-06-15T14:13:55.674717Z",
     "start_time": "2020-06-15T14:13:55.666099Z"
    }
   },
   "outputs": [
    {
     "data": {
      "text/plain": [
       "array([[ 0.,  1.,  2.],\n",
       "       [ 0.,  1.,  3.],\n",
       "       [ 0.,  1.,  4.],\n",
       "       ...,\n",
       "       [11., 12., 14.],\n",
       "       [11., 13., 14.],\n",
       "       [12., 13., 14.]])"
      ]
     },
     "execution_count": 61,
     "metadata": {},
     "output_type": "execute_result"
    }
   ],
   "source": [
    "aa[:,:-1]"
   ]
  },
  {
   "cell_type": "code",
   "execution_count": 114,
   "metadata": {
    "ExecuteTime": {
     "end_time": "2020-06-15T14:39:05.771533Z",
     "start_time": "2020-06-15T14:39:05.767553Z"
    }
   },
   "outputs": [],
   "source": [
    "aaa = list(range(10))"
   ]
  },
  {
   "cell_type": "code",
   "execution_count": 119,
   "metadata": {
    "ExecuteTime": {
     "end_time": "2020-06-15T14:39:34.989323Z",
     "start_time": "2020-06-15T14:39:34.976042Z"
    }
   },
   "outputs": [
    {
     "ename": "ValueError",
     "evalue": "list.remove(x): x not in list",
     "output_type": "error",
     "traceback": [
      "\u001b[0;31m---------------------------------------------------------------------------\u001b[0m",
      "\u001b[0;31mValueError\u001b[0m                                Traceback (most recent call last)",
      "\u001b[0;32m<ipython-input-119-6880a1b469e4>\u001b[0m in \u001b[0;36m<module>\u001b[0;34m\u001b[0m\n\u001b[0;32m----> 1\u001b[0;31m \u001b[0maaa\u001b[0m\u001b[0;34m.\u001b[0m\u001b[0mremove\u001b[0m\u001b[0;34m(\u001b[0m\u001b[0;34m(\u001b[0m\u001b[0;36m1\u001b[0m\u001b[0;34m,\u001b[0m\u001b[0;36m2\u001b[0m\u001b[0;34m)\u001b[0m\u001b[0;34m)\u001b[0m\u001b[0;34m\u001b[0m\u001b[0;34m\u001b[0m\u001b[0m\n\u001b[0m",
      "\u001b[0;31mValueError\u001b[0m: list.remove(x): x not in list"
     ]
    }
   ],
   "source": [
    "aaa.remove((1,2))"
   ]
  },
  {
   "cell_type": "code",
   "execution_count": 147,
   "metadata": {
    "ExecuteTime": {
     "end_time": "2020-06-15T14:52:04.634507Z",
     "start_time": "2020-06-15T14:52:04.628186Z"
    }
   },
   "outputs": [
    {
     "data": {
      "text/plain": [
       "44"
      ]
     },
     "execution_count": 147,
     "metadata": {},
     "output_type": "execute_result"
    }
   ],
   "source": [
    "np.random.randint(20,size=)"
   ]
  },
  {
   "cell_type": "code",
   "execution_count": null,
   "metadata": {},
   "outputs": [],
   "source": []
  }
 ],
 "metadata": {
  "kernelspec": {
   "display_name": "Python 3.8.3 64-bit",
   "language": "python",
   "name": "python38364bite5ba0db072e24e218b379b1fc7d8274d"
  },
  "language_info": {
   "codemirror_mode": {
    "name": "ipython",
    "version": 3
   },
   "file_extension": ".py",
   "mimetype": "text/x-python",
   "name": "python",
   "nbconvert_exporter": "python",
   "pygments_lexer": "ipython3",
   "version": "3.8.3"
  },
  "varInspector": {
   "cols": {
    "lenName": 16,
    "lenType": 16,
    "lenVar": 40
   },
   "kernels_config": {
    "python": {
     "delete_cmd_postfix": "",
     "delete_cmd_prefix": "del ",
     "library": "var_list.py",
     "varRefreshCmd": "print(var_dic_list())"
    },
    "r": {
     "delete_cmd_postfix": ") ",
     "delete_cmd_prefix": "rm(",
     "library": "var_list.r",
     "varRefreshCmd": "cat(var_dic_list()) "
    }
   },
   "types_to_exclude": [
    "module",
    "function",
    "builtin_function_or_method",
    "instance",
    "_Feature"
   ],
   "window_display": false
  }
 },
 "nbformat": 4,
 "nbformat_minor": 4
}
