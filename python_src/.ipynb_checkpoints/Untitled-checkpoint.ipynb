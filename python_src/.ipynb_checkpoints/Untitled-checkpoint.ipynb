{
 "cells": [
  {
   "cell_type": "code",
   "execution_count": 2,
   "metadata": {
    "ExecuteTime": {
     "end_time": "2020-06-15T13:30:40.425826Z",
     "start_time": "2020-06-15T13:30:39.342580Z"
    }
   },
   "outputs": [],
   "source": [
    "import numpy as np\n",
    "import matplotlib.pyplot as plt\n",
    "import pandas as pd\n",
    "from itertools import combinations, permutations\n",
    "from scipy import sparse"
   ]
  },
  {
   "cell_type": "code",
   "execution_count": 98,
   "metadata": {
    "ExecuteTime": {
     "end_time": "2020-06-15T14:32:48.112037Z",
     "start_time": "2020-06-15T14:32:48.079330Z"
    }
   },
   "outputs": [],
   "source": [
    "class mixed_heider:\n",
    "    def set_system(self, nodes_count, enmity_ratio, delay):\n",
    "        self.nc, self.er, self.delay = (nodes_count, enmity_ratio, delay)\n",
    "        self.initiate()\n",
    "\n",
    "    def initiate(self):\n",
    "        self.create_network()\n",
    "        self.total_tri_energy()\n",
    "\n",
    "    def create_network(self):\n",
    "        links = np.array(list(combinations(np.arange(self.nc), 2)))\n",
    "\n",
    "        self.lc = len(links)\n",
    "        signs = np.random.choice(a=[-1, 1],\n",
    "                                 size=self.lc,\n",
    "                                 p=[self.er, 1 - self.er])\n",
    "        adj = sparse.coo_matrix((signs, (links[:, 0], links[:, 1])),\n",
    "                                (self.nc, self.nc)).toarray()\n",
    "        self.adj_mat = adj + adj.T\n",
    "\n",
    "    def total_tri_energy(self):\n",
    "        self.tc = len(list(combinations(np.arange(self.nc), 3)))\n",
    "        self.state_array = np.c_[list(combinations(np.arange(self.nc), 3)),\n",
    "                                 -self.delay * np.ones(self.tc)]\n",
    "        energy_part = np.matmul(self.adj_mat, self.adj_mat)\n",
    "        energy_mat = np.multiply(self.adj_mat, energy_part)\n",
    "        self.tri_energy = -np.sum(energy_mat) / 6\n",
    "\n",
    "    def permute_nodes(self, array):\n",
    "        return np.array(list(permutations(array, 3))[:3])\n",
    "\n",
    "    # dynamic\n",
    "    def balanceTimer(self, link, time):\n",
    "        for i in range(self.nc):\n",
    "            sign = \\\n",
    "            self.adj_mat[link[0],link[1]] * \\\n",
    "            self.adj_mat[link[0], i] * \\\n",
    "            self.adj_mat[i, link[1]]\n",
    "            if sign == 1:\n",
    "                dd = [link[0], link[1], i]\n",
    "                dd.sort()\n",
    "                row = np.argwhere(\n",
    "                    (self.state_array[:, :-1] == dd).all(axis=1))[0][0]\n",
    "                self.state_array[row, 3] = time\n",
    "\n",
    "    def checker(self, link, time):\n",
    "        linkEnergy = 0\n",
    "        for i in range(self.nc):\n",
    "            dd = [link[0], link[1], i]\n",
    "            dd.sort()\n",
    "            row = np.argwhere(\n",
    "                (self.state_array[:, :-1] == dd).all(axis=1))[0][0]\n",
    "            if (time - self.state_array[row, 3] <= self.delay):\n",
    "                linkEnergy -= 1\n",
    "            else:\n",
    "                linkEnergy += 1\n",
    "            return linkEnergy\n",
    "\n",
    "    def flipper(self, time):\n",
    "        link = np.random.choice(range(self.nc), 2, replace=False)\n",
    "        #         tri_energy = -np.inner(\n",
    "        #             self.adj_mat[:, link[0]],\n",
    "        #             self.adj_mat[:, link[1]]) * self.adj_mat[link[0], link[1]]\n",
    "        tri_energy = self.checker(link, time)\n",
    "        delta_E = tri_energy\n",
    "        new_sgn = -np.sign(delta_E)\n",
    "        decision_factor = new_sgn - 1\n",
    "        self.adj_mat[link[0],link[1]] = self.adj_mat[link[1],link[0]] = \\\n",
    "                        new_sgn * self.adj_mat[link[0],link[1]]\n",
    "        self.balanceTimer(link, time)\n",
    "        self.tri_energy += decision_factor * tri_energy"
   ]
  },
  {
   "cell_type": "code",
   "execution_count": 18,
   "metadata": {
    "ExecuteTime": {
     "end_time": "2020-06-15T13:41:22.322814Z",
     "start_time": "2020-06-15T13:41:22.315351Z"
    }
   },
   "outputs": [],
   "source": [
    "nodes_count = 15  # number of nodes (must be integer)\n",
    "enmity_ratio = 1  # a real number between 0 and 1 that\n",
    "# shows initial ratio of enmity in network\n",
    "time_steps = nodes_count**3"
   ]
  },
  {
   "cell_type": "code",
   "execution_count": 93,
   "metadata": {
    "ExecuteTime": {
     "end_time": "2020-06-15T14:20:57.290195Z",
     "start_time": "2020-06-15T14:20:57.286506Z"
    }
   },
   "outputs": [],
   "source": [
    "trngl_energy_ts = []"
   ]
  },
  {
   "cell_type": "code",
   "execution_count": 94,
   "metadata": {
    "ExecuteTime": {
     "end_time": "2020-06-15T14:20:57.966161Z",
     "start_time": "2020-06-15T14:20:57.960363Z"
    }
   },
   "outputs": [],
   "source": [
    "mh = mixed_heider()"
   ]
  },
  {
   "cell_type": "code",
   "execution_count": 95,
   "metadata": {
    "ExecuteTime": {
     "end_time": "2020-06-15T14:20:58.245436Z",
     "start_time": "2020-06-15T14:20:58.239050Z"
    }
   },
   "outputs": [],
   "source": [
    "mh.set_system(nodes_count,enmity_ratio)"
   ]
  },
  {
   "cell_type": "code",
   "execution_count": 96,
   "metadata": {
    "ExecuteTime": {
     "end_time": "2020-06-15T14:21:01.181579Z",
     "start_time": "2020-06-15T14:20:58.635248Z"
    }
   },
   "outputs": [],
   "source": [
    "for t in range(time_steps):\n",
    "    mh.flipper(t)\n",
    "    trngl_energy_ts.append(mh.tri_energy / mh.tc)"
   ]
  },
  {
   "cell_type": "code",
   "execution_count": 97,
   "metadata": {
    "ExecuteTime": {
     "end_time": "2020-06-15T14:21:01.449457Z",
     "start_time": "2020-06-15T14:21:01.195150Z"
    }
   },
   "outputs": [
    {
     "data": {
      "text/plain": [
       "[<matplotlib.lines.Line2D at 0x7fd169289e20>]"
      ]
     },
     "execution_count": 97,
     "metadata": {},
     "output_type": "execute_result"
    },
    {
     "data": {
      "image/png": "[encoded data removed]",
      "text/plain": [
       "<Figure size 432x288 with 1 Axes>"
      ]
     },
     "metadata": {
      "needs_background": "light"
     },
     "output_type": "display_data"
    }
   ],
   "source": [
    "plt.plot(trngl_energy_ts)"
   ]
  },
  {
   "cell_type": "code",
   "execution_count": 87,
   "metadata": {
    "ExecuteTime": {
     "end_time": "2020-06-15T14:19:48.961875Z",
     "start_time": "2020-06-15T14:19:48.954667Z"
    }
   },
   "outputs": [
    {
     "data": {
      "text/plain": [
       "array([[0.000e+00, 1.000e+00, 2.000e+00, 3.367e+03],\n",
       "       [0.000e+00, 1.000e+00, 3.000e+00, 3.351e+03],\n",
       "       [0.000e+00, 1.000e+00, 4.000e+00, 3.312e+03],\n",
       "       ...,\n",
       "       [1.100e+01, 1.200e+01, 1.400e+01, 3.359e+03],\n",
       "       [1.100e+01, 1.300e+01, 1.400e+01, 3.364e+03],\n",
       "       [1.200e+01, 1.300e+01, 1.400e+01, 3.364e+03]])"
      ]
     },
     "execution_count": 87,
     "metadata": {},
     "output_type": "execute_result"
    }
   ],
   "source": [
    "mh.state_array"
   ]
  },
  {
   "cell_type": "code",
   "execution_count": 40,
   "metadata": {
    "ExecuteTime": {
     "end_time": "2020-06-15T13:55:40.362575Z",
     "start_time": "2020-06-15T13:55:40.350125Z"
    }
   },
   "outputs": [
    {
     "data": {
      "text/plain": [
       "array([[ 0.,  1.,  2.,  0.],\n",
       "       [ 0.,  1.,  3.,  0.],\n",
       "       [ 0.,  1.,  4.,  0.],\n",
       "       ...,\n",
       "       [11., 12., 14.,  0.],\n",
       "       [11., 13., 14.,  0.],\n",
       "       [12., 13., 14.,  0.]])"
      ]
     },
     "execution_count": 40,
     "metadata": {},
     "output_type": "execute_result"
    }
   ],
   "source": [
    "np.c_[(list(combinations(np.arange(mh.nc), 3))),np.zeros(455)]"
   ]
  },
  {
   "cell_type": "code",
   "execution_count": 55,
   "metadata": {
    "ExecuteTime": {
     "end_time": "2020-06-15T14:12:41.006437Z",
     "start_time": "2020-06-15T14:12:41.002941Z"
    }
   },
   "outputs": [],
   "source": [
    "aa = mh.state_array"
   ]
  },
  {
   "cell_type": "code",
   "execution_count": 71,
   "metadata": {
    "ExecuteTime": {
     "end_time": "2020-06-15T14:16:26.128593Z",
     "start_time": "2020-06-15T14:16:26.122664Z"
    }
   },
   "outputs": [],
   "source": [
    "a = [3,1,2]\n",
    "a.sort()"
   ]
  },
  {
   "cell_type": "code",
   "execution_count": 72,
   "metadata": {
    "ExecuteTime": {
     "end_time": "2020-06-15T14:16:31.366348Z",
     "start_time": "2020-06-15T14:16:31.355903Z"
    }
   },
   "outputs": [
    {
     "data": {
      "text/plain": [
       "array([[91]])"
      ]
     },
     "execution_count": 72,
     "metadata": {},
     "output_type": "execute_result"
    }
   ],
   "source": [
    "np.argwhere((aa[:,:-1] == a).all(axis=1))"
   ]
  },
  {
   "cell_type": "code",
   "execution_count": 75,
   "metadata": {
    "ExecuteTime": {
     "end_time": "2020-06-15T14:17:02.173952Z",
     "start_time": "2020-06-15T14:17:02.166693Z"
    }
   },
   "outputs": [
    {
     "data": {
      "text/plain": [
       "array([ 0., 13., 14., -1.])"
      ]
     },
     "execution_count": 75,
     "metadata": {},
     "output_type": "execute_result"
    }
   ],
   "source": [
    "aa[90,:]"
   ]
  },
  {
   "cell_type": "code",
   "execution_count": 61,
   "metadata": {
    "ExecuteTime": {
     "end_time": "2020-06-15T14:13:55.674717Z",
     "start_time": "2020-06-15T14:13:55.666099Z"
    }
   },
   "outputs": [
    {
     "data": {
      "text/plain": [
       "array([[ 0.,  1.,  2.],\n",
       "       [ 0.,  1.,  3.],\n",
       "       [ 0.,  1.,  4.],\n",
       "       ...,\n",
       "       [11., 12., 14.],\n",
       "       [11., 13., 14.],\n",
       "       [12., 13., 14.]])"
      ]
     },
     "execution_count": 61,
     "metadata": {},
     "output_type": "execute_result"
    }
   ],
   "source": [
    "aa[:,:-1]"
   ]
  },
  {
   "cell_type": "code",
   "execution_count": null,
   "metadata": {},
   "outputs": [],
   "source": []
  }
 ],
 "metadata": {
  "kernelspec": {
   "display_name": "Python 3.8.3 64-bit",
   "language": "python",
   "name": "python38364bite5ba0db072e24e218b379b1fc7d8274d"
  },
  "language_info": {
   "codemirror_mode": {
    "name": "ipython",
    "version": 3
   },
   "file_extension": ".py",
   "mimetype": "text/x-python",
   "name": "python",
   "nbconvert_exporter": "python",
   "pygments_lexer": "ipython3",
   "version": "3.8.3"
  },
  "varInspector": {
   "cols": {
    "lenName": 16,
    "lenType": 16,
    "lenVar": 40
   },
   "kernels_config": {
    "python": {
     "delete_cmd_postfix": "",
     "delete_cmd_prefix": "del ",
     "library": "var_list.py",
     "varRefreshCmd": "print(var_dic_list())"
    },
    "r": {
     "delete_cmd_postfix": ") ",
     "delete_cmd_prefix": "rm(",
     "library": "var_list.r",
     "varRefreshCmd": "cat(var_dic_list()) "
    }
   },
   "types_to_exclude": [
    "module",
    "function",
    "builtin_function_or_method",
    "instance",
    "_Feature"
   ],
   "window_display": false
  }
 },
 "nbformat": 4,
 "nbformat_minor": 4
}
