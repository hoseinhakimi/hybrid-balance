{
 "cells": [
  {
   "cell_type": "code",
   "execution_count": 1,
   "metadata": {
    "ExecuteTime": {
     "end_time": "2020-06-20T07:15:46.138122Z",
     "start_time": "2020-06-20T07:15:45.024791Z"
    }
   },
   "outputs": [],
   "source": [
    "import numpy as np\n",
    "import matplotlib.pyplot as plt\n",
    "import pandas as pd"
   ]
  },
  {
   "cell_type": "code",
   "execution_count": 120,
   "metadata": {
    "ExecuteTime": {
     "end_time": "2020-06-20T13:01:16.066561Z",
     "start_time": "2020-06-20T13:01:16.030982Z"
    }
   },
   "outputs": [],
   "source": [
    "output5 = pd.read_table(\"../outputs/data/mixed_dynamics_50_0.500000\")\n",
    "output1 = pd.read_table(\"../outputs/data/mixed_dynamics_50_1.000000\")\n",
    "output0 = pd.read_table(\"../outputs/data/mixed_dynamics_50_0.000000\")\n",
    "output5.sort_values('Temperature',inplace=True)\n",
    "output1.sort_values('Temperature',inplace=True)\n",
    "output0.sort_values('Temperature',inplace=True)"
   ]
  },
  {
   "cell_type": "code",
   "execution_count": 116,
   "metadata": {
    "ExecuteTime": {
     "end_time": "2020-06-20T12:57:48.034931Z",
     "start_time": "2020-06-20T12:57:48.005114Z"
    }
   },
   "outputs": [
    {
     "data": {
      "text/html": [
       "<div>\n",
       "<style scoped>\n",
       "    .dataframe tbody tr th:only-of-type {\n",
       "        vertical-align: middle;\n",
       "    }\n",
       "\n",
       "    .dataframe tbody tr th {\n",
       "        vertical-align: top;\n",
       "    }\n",
       "\n",
       "    .dataframe thead th {\n",
       "        text-align: right;\n",
       "    }\n",
       "</style>\n",
       "<table border=\"1\" class=\"dataframe\">\n",
       "  <thead>\n",
       "    <tr style=\"text-align: right;\">\n",
       "      <th></th>\n",
       "      <th>Participation</th>\n",
       "      <th>Temperature</th>\n",
       "      <th>SquareEnergy</th>\n",
       "      <th>OpenSquares</th>\n",
       "      <th>TriadEnergy</th>\n",
       "      <th>TwoStars</th>\n",
       "      <th>Mean</th>\n",
       "    </tr>\n",
       "  </thead>\n",
       "  <tbody>\n",
       "    <tr>\n",
       "      <th>2</th>\n",
       "      <td>0</td>\n",
       "      <td>0</td>\n",
       "      <td>-1.0</td>\n",
       "      <td>0.005714</td>\n",
       "      <td>-1.0</td>\n",
       "      <td>0.005714</td>\n",
       "      <td>0.005714</td>\n",
       "    </tr>\n",
       "    <tr>\n",
       "      <th>4</th>\n",
       "      <td>0</td>\n",
       "      <td>1</td>\n",
       "      <td>-1.0</td>\n",
       "      <td>-0.018776</td>\n",
       "      <td>-1.0</td>\n",
       "      <td>-0.018776</td>\n",
       "      <td>-0.018776</td>\n",
       "    </tr>\n",
       "    <tr>\n",
       "      <th>9</th>\n",
       "      <td>0</td>\n",
       "      <td>2</td>\n",
       "      <td>-1.0</td>\n",
       "      <td>-0.013878</td>\n",
       "      <td>-1.0</td>\n",
       "      <td>-0.013878</td>\n",
       "      <td>-0.013878</td>\n",
       "    </tr>\n",
       "    <tr>\n",
       "      <th>12</th>\n",
       "      <td>0</td>\n",
       "      <td>3</td>\n",
       "      <td>-1.0</td>\n",
       "      <td>0.038367</td>\n",
       "      <td>-1.0</td>\n",
       "      <td>0.038367</td>\n",
       "      <td>0.038367</td>\n",
       "    </tr>\n",
       "    <tr>\n",
       "      <th>17</th>\n",
       "      <td>0</td>\n",
       "      <td>4</td>\n",
       "      <td>-1.0</td>\n",
       "      <td>-0.018776</td>\n",
       "      <td>-1.0</td>\n",
       "      <td>-0.018776</td>\n",
       "      <td>-0.018776</td>\n",
       "    </tr>\n",
       "  </tbody>\n",
       "</table>\n",
       "</div>"
      ],
      "text/plain": [
       "    Participation  Temperature  SquareEnergy  OpenSquares  TriadEnergy  \\\n",
       "2               0            0          -1.0     0.005714         -1.0   \n",
       "4               0            1          -1.0    -0.018776         -1.0   \n",
       "9               0            2          -1.0    -0.013878         -1.0   \n",
       "12              0            3          -1.0     0.038367         -1.0   \n",
       "17              0            4          -1.0    -0.018776         -1.0   \n",
       "\n",
       "    TwoStars      Mean  \n",
       "2   0.005714  0.005714  \n",
       "4  -0.018776 -0.018776  \n",
       "9  -0.013878 -0.013878  \n",
       "12  0.038367  0.038367  \n",
       "17 -0.018776 -0.018776  "
      ]
     },
     "execution_count": 116,
     "metadata": {},
     "output_type": "execute_result"
    }
   ],
   "source": [
    "output.head()"
   ]
  },
  {
   "cell_type": "code",
   "execution_count": 123,
   "metadata": {
    "ExecuteTime": {
     "end_time": "2020-06-20T13:01:38.046536Z",
     "start_time": "2020-06-20T13:01:38.032497Z"
    }
   },
   "outputs": [],
   "source": [
    "triadEnergy_t = np.zeros((40,4))\n",
    "triadEnergy_t[:,0] = output1['Temperature']\n",
    "triadEnergy_t[:,1] = output1['TriadEnergy']\n",
    "triadEnergy_t[:,2] = output5['TriadEnergy']\n",
    "triadEnergy_t[:,3] = output0['TriadEnergy']"
   ]
  },
  {
   "cell_type": "code",
   "execution_count": 124,
   "metadata": {
    "ExecuteTime": {
     "end_time": "2020-06-20T13:01:39.042867Z",
     "start_time": "2020-06-20T13:01:38.668781Z"
    }
   },
   "outputs": [
    {
     "data": {
      "text/plain": [
       "[<matplotlib.lines.Line2D at 0x7f2a3bc565e0>,\n",
       " <matplotlib.lines.Line2D at 0x7f2a3bbd35b0>,\n",
       " <matplotlib.lines.Line2D at 0x7f2a3bc43640>]"
      ]
     },
     "execution_count": 124,
     "metadata": {},
     "output_type": "execute_result"
    },
    {
     "data": {
      "image/png": "[encoded data removed]",
      "text/plain": [
       "<Figure size 432x288 with 1 Axes>"
      ]
     },
     "metadata": {
      "needs_background": "light"
     },
     "output_type": "display_data"
    }
   ],
   "source": [
    "plt.plot(triadEnergy_t[:,0],triadEnergy_t[:,1:],'.')"
   ]
  },
  {
   "cell_type": "code",
   "execution_count": 125,
   "metadata": {
    "ExecuteTime": {
     "end_time": "2020-06-20T13:03:07.247541Z",
     "start_time": "2020-06-20T13:03:07.235425Z"
    }
   },
   "outputs": [],
   "source": [
    "tStars_t = np.zeros((40,4))\n",
    "tStars_t[:,0] = output1['Temperature']\n",
    "tStars_t[:,1] = output1['TwoStars']\n",
    "tStars_t[:,2] = output5['TwoStars']\n",
    "tStars_t[:,3] = output0['TwoStars']"
   ]
  },
  {
   "cell_type": "code",
   "execution_count": 126,
   "metadata": {
    "ExecuteTime": {
     "end_time": "2020-06-20T13:03:18.621370Z",
     "start_time": "2020-06-20T13:03:18.276998Z"
    }
   },
   "outputs": [
    {
     "data": {
      "text/plain": [
       "[<matplotlib.lines.Line2D at 0x7f2a3bab4550>,\n",
       " <matplotlib.lines.Line2D at 0x7f2a3bab45b0>,\n",
       " <matplotlib.lines.Line2D at 0x7f2a3bab4640>]"
      ]
     },
     "execution_count": 126,
     "metadata": {},
     "output_type": "execute_result"
    },
    {
     "data": {
      "image/png": "[encoded data removed]",
      "text/plain": [
       "<Figure size 432x288 with 1 Axes>"
      ]
     },
     "metadata": {
      "needs_background": "light"
     },
     "output_type": "display_data"
    }
   ],
   "source": [
    "plt.plot(tStars_t[:,0],tStars_t[:,1:],'.')"
   ]
  },
  {
   "cell_type": "code",
   "execution_count": 159,
   "metadata": {
    "ExecuteTime": {
     "end_time": "2020-06-20T14:20:38.188757Z",
     "start_time": "2020-06-20T14:20:38.167098Z"
    }
   },
   "outputs": [],
   "source": [
    "out5 = pd.read_table(\"../outputs/data/mixed_dynamics_50_0.500000_1.000000\")\n",
    "out1 = pd.read_table(\"../outputs/data/mixed_dynamics_50_1.000000_1.000000\")\n",
    "out0 = pd.read_table(\"../outputs/data/mixed_dynamics_50_0.000000_1.000000\")\n",
    "out5.sort_values('Temperature',inplace=True)\n",
    "out1.sort_values('Temperature',inplace=True)\n",
    "out0.sort_values('Temperature',inplace=True)"
   ]
  },
  {
   "cell_type": "code",
   "execution_count": 158,
   "metadata": {
    "ExecuteTime": {
     "end_time": "2020-06-20T13:59:32.277168Z",
     "start_time": "2020-06-20T13:59:32.070211Z"
    }
   },
   "outputs": [
    {
     "data": {
      "text/plain": [
       "[<matplotlib.lines.Line2D at 0x7f2a3b450f40>]"
      ]
     },
     "execution_count": 158,
     "metadata": {},
     "output_type": "execute_result"
    },
    {
     "data": {
      "image/png": "[encoded data removed]",
      "text/plain": [
       "<Figure size 432x288 with 1 Axes>"
      ]
     },
     "metadata": {
      "needs_background": "light"
     },
     "output_type": "display_data"
    }
   ],
   "source": [
    "plt.plot(out1['Temperature'],out1['TriadEnergy'],'.')"
   ]
  },
  {
   "cell_type": "code",
   "execution_count": 161,
   "metadata": {
    "ExecuteTime": {
     "end_time": "2020-06-20T14:20:48.338126Z",
     "start_time": "2020-06-20T14:20:48.331269Z"
    }
   },
   "outputs": [],
   "source": [
    "triadEnergy_s = np.zeros((60,4))\n",
    "triadEnergy_s[:,0] = out1['Temperature']\n",
    "triadEnergy_s[:,1] = out1['TriadEnergy']\n",
    "triadEnergy_s[:,2] = out0['TriadEnergy']\n",
    "triadEnergy_s[:,3] = out5['TriadEnergy']"
   ]
  },
  {
   "cell_type": "code",
   "execution_count": 162,
   "metadata": {
    "ExecuteTime": {
     "end_time": "2020-06-20T14:20:50.222046Z",
     "start_time": "2020-06-20T14:20:49.993305Z"
    }
   },
   "outputs": [
    {
     "data": {
      "text/plain": [
       "[<matplotlib.lines.Line2D at 0x7f2a3b45f9d0>,\n",
       " <matplotlib.lines.Line2D at 0x7f2a3b45f970>,\n",
       " <matplotlib.lines.Line2D at 0x7f2a3b45fa30>]"
      ]
     },
     "execution_count": 162,
     "metadata": {},
     "output_type": "execute_result"
    },
    {
     "data": {
      "image/png": "[encoded data removed]",
      "text/plain": [
       "<Figure size 432x288 with 1 Axes>"
      ]
     },
     "metadata": {
      "needs_background": "light"
     },
     "output_type": "display_data"
    }
   ],
   "source": [
    "plt.plot(triadEnergy_s[:,0],triadEnergy_s[:,1:],'.')"
   ]
  },
  {
   "cell_type": "code",
   "execution_count": 163,
   "metadata": {
    "ExecuteTime": {
     "end_time": "2020-06-20T14:21:11.432446Z",
     "start_time": "2020-06-20T14:21:11.425585Z"
    }
   },
   "outputs": [],
   "source": [
    "SquareEnergy_s = np.zeros((60,4))\n",
    "SquareEnergy_s[:,0] = out1['Temperature']\n",
    "SquareEnergy_s[:,1] = out1['SquareEnergy']\n",
    "SquareEnergy_s[:,2] = out0['SquareEnergy']\n",
    "SquareEnergy_s[:,3] = out5['SquareEnergy']"
   ]
  },
  {
   "cell_type": "code",
   "execution_count": 164,
   "metadata": {
    "ExecuteTime": {
     "end_time": "2020-06-20T14:21:12.411764Z",
     "start_time": "2020-06-20T14:21:12.207700Z"
    }
   },
   "outputs": [
    {
     "data": {
      "text/plain": [
       "[<matplotlib.lines.Line2D at 0x7f2a3b40d640>,\n",
       " <matplotlib.lines.Line2D at 0x7f2a3b40d550>,\n",
       " <matplotlib.lines.Line2D at 0x7f2a3b40d100>]"
      ]
     },
     "execution_count": 164,
     "metadata": {},
     "output_type": "execute_result"
    },
    {
     "data": {
      "image/png": "[encoded data removed]",
      "text/plain": [
       "<Figure size 432x288 with 1 Axes>"
      ]
     },
     "metadata": {
      "needs_background": "light"
     },
     "output_type": "display_data"
    }
   ],
   "source": [
    "plt.plot(SquareEnergy_s[:,0],SquareEnergy_s[:,1:],'.')"
   ]
  },
  {
   "cell_type": "code",
   "execution_count": 165,
   "metadata": {
    "ExecuteTime": {
     "end_time": "2020-06-20T14:21:26.262086Z",
     "start_time": "2020-06-20T14:21:26.251412Z"
    }
   },
   "outputs": [],
   "source": [
    "OpenSquare_s = np.zeros((60,4))\n",
    "OpenSquare_s[:,0] = out1['Temperature']\n",
    "OpenSquare_s[:,1] = out1['OpenSquares']\n",
    "OpenSquare_s[:,2] = out0['OpenSquares']\n",
    "OpenSquare_s[:,3] = out5['OpenSquares']"
   ]
  },
  {
   "cell_type": "code",
   "execution_count": 167,
   "metadata": {
    "ExecuteTime": {
     "end_time": "2020-06-20T14:21:31.403637Z",
     "start_time": "2020-06-20T14:21:31.177240Z"
    }
   },
   "outputs": [
    {
     "data": {
      "text/plain": [
       "[<matplotlib.lines.Line2D at 0x7f2a3b2e92b0>,\n",
       " <matplotlib.lines.Line2D at 0x7f2a3b2e9310>,\n",
       " <matplotlib.lines.Line2D at 0x7f2a3b2e93a0>]"
      ]
     },
     "execution_count": 167,
     "metadata": {},
     "output_type": "execute_result"
    },
    {
     "data": {
      "image/png": "[encoded data removed]",
      "text/plain": [
       "<Figure size 432x288 with 1 Axes>"
      ]
     },
     "metadata": {
      "needs_background": "light"
     },
     "output_type": "display_data"
    }
   ],
   "source": [
    "plt.plot(OpenSquare_s[:,0],OpenSquare_s[:,1:],'.')"
   ]
  },
  {
   "cell_type": "code",
   "execution_count": 168,
   "metadata": {
    "ExecuteTime": {
     "end_time": "2020-06-20T14:21:50.275490Z",
     "start_time": "2020-06-20T14:21:50.267899Z"
    }
   },
   "outputs": [],
   "source": [
    "Mean_s = np.zeros((60,4))\n",
    "Mean_s[:,0] = out1['Temperature']\n",
    "Mean_s[:,1] = out1['Mean']\n",
    "Mean_s[:,2] = out0['Mean']\n",
    "Mean_s[:,3] = out5['Mean']"
   ]
  },
  {
   "cell_type": "code",
   "execution_count": 169,
   "metadata": {
    "ExecuteTime": {
     "end_time": "2020-06-20T14:21:51.063863Z",
     "start_time": "2020-06-20T14:21:50.827120Z"
    }
   },
   "outputs": [
    {
     "data": {
      "text/plain": [
       "[<matplotlib.lines.Line2D at 0x7f2a3b23ee50>,\n",
       " <matplotlib.lines.Line2D at 0x7f2a3b23eeb0>,\n",
       " <matplotlib.lines.Line2D at 0x7f2a3b23ef40>]"
      ]
     },
     "execution_count": 169,
     "metadata": {},
     "output_type": "execute_result"
    },
    {
     "data": {
      "image/png": "[encoded data removed]",
      "text/plain": [
       "<Figure size 432x288 with 1 Axes>"
      ]
     },
     "metadata": {
      "needs_background": "light"
     },
     "output_type": "display_data"
    }
   ],
   "source": [
    "plt.plot(Mean_s[:,0],Mean_s[:,1:],'.')"
   ]
  },
  {
   "cell_type": "code",
   "execution_count": null,
   "metadata": {},
   "outputs": [],
   "source": [
    "TStars_s = np.zeros((60,4))\n",
    "TStars_s[:,0] = out1['Temperature']\n",
    "TStars_s[:,1] = out1['TwoStars']\n",
    "TStars_s[:,2] = out0['TwoStars']\n",
    "TStars_s[:,3] = out5['TwoStars']"
   ]
  }
 ],
 "metadata": {
  "kernelspec": {
   "display_name": "Python 3",
   "language": "python",
   "name": "python3"
  },
  "language_info": {
   "codemirror_mode": {
    "name": "ipython",
    "version": 3
   },
   "file_extension": ".py",
   "mimetype": "text/x-python",
   "name": "python",
   "nbconvert_exporter": "python",
   "pygments_lexer": "ipython3",
   "version": "3.8.3"
  },
  "varInspector": {
   "cols": {
    "lenName": 16,
    "lenType": 16,
    "lenVar": 40
   },
   "kernels_config": {
    "python": {
     "delete_cmd_postfix": "",
     "delete_cmd_prefix": "del ",
     "library": "var_list.py",
     "varRefreshCmd": "print(var_dic_list())"
    },
    "r": {
     "delete_cmd_postfix": ") ",
     "delete_cmd_prefix": "rm(",
     "library": "var_list.r",
     "varRefreshCmd": "cat(var_dic_list()) "
    }
   },
   "types_to_exclude": [
    "module",
    "function",
    "builtin_function_or_method",
    "instance",
    "_Feature"
   ],
   "window_display": false
  }
 },
 "nbformat": 4,
 "nbformat_minor": 4
}
